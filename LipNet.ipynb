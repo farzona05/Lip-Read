{
 "cells": [
  {
   "cell_type": "markdown",
   "id": "a3573a47-3689-4668-b62f-5c8451b2b4e9",
   "metadata": {
    "jp-MarkdownHeadingCollapsed": true,
    "tags": []
   },
   "source": [
    "# 0. Install and Import Dependencies"
   ]
  },
  {
   "cell_type": "code",
   "execution_count": 1,
   "id": "ddfbccbe-41ae-4c23-98b1-a13868e2b499",
   "metadata": {
    "scrolled": true,
    "tags": []
   },
   "outputs": [
    {
     "name": "stdout",
     "output_type": "stream",
     "text": [
      "Package                      Version    Editable project location\n",
      "---------------------------- ---------- ---------------------------------------------------------------------------------\n",
      "absl-py                      2.1.0\n",
      "absl-py                      2.1.0\n",
      "altair                       5.2.0\n",
      "apache-beam                  2.54.0\n",
      "apache-beam                  2.54.0\n",
      "asttokens                    2.4.1\n",
      "astunparse                   1.6.3\n",
      "attrs                        23.2.0\n",
      "avro-python3                 1.10.2\n",
      "avro-python3                 1.10.2\n",
      "avro-python3                 1.10.2\n",
      "beautifulsoup4               4.12.3\n",
      "blinker                      1.7.0\n",
      "cachetools                   5.3.2\n",
      "certifi                      2024.2.2\n",
      "charset-normalizer           3.3.2\n",
      "chex                         0.1.85\n",
      "click                        8.1.7\n",
      "colorama                     0.4.6\n",
      "comm                         0.2.1\n",
      "contextlib2                  21.6.0\n",
      "contextlib2                  21.6.0\n",
      "contourpy                    1.2.0\n",
      "cycler                       0.12.1\n",
      "Cython                       3.0.8\n",
      "Cython                       3.0.8\n",
      "debugpy                      1.8.1\n",
      "decorator                    5.1.1\n",
      "dm-tree                      0.1.8\n",
      "dm-tree                      0.1.8\n",
      "etils                        1.7.0\n",
      "executing                    2.0.1\n",
      "filelock                     3.13.1\n",
      "flatbuffers                  23.5.26\n",
      "flax                         0.8.1\n",
      "fonttools                    4.48.1\n",
      "fsspec                       2024.2.0\n",
      "gast                         0.4.0\n",
      "gdown                        5.1.0\n",
      "gin-config                   0.5.0\n",
      "gitdb                        4.0.11\n",
      "GitPython                    3.1.42\n",
      "google-auth                  2.27.0\n",
      "google-auth-oauthlib         1.0.0\n",
      "google-pasta                 0.2.0\n",
      "grpcio                       1.60.1\n",
      "h5py                         3.10.0\n",
      "h5py                         3.10.0\n",
      "idna                         3.6\n",
      "imageio                      2.34.0\n",
      "importlib-metadata           7.0.1\n",
      "importlib-resources          6.1.1\n",
      "ipykernel                    6.29.2\n",
      "ipython                      8.21.0\n",
      "jax                          0.4.24\n",
      "jaxlib                       0.4.23\n",
      "jedi                         0.19.1\n",
      "Jinja2                       3.1.3\n",
      "jsonschema                   4.21.1\n",
      "jsonschema-specifications    2023.12.1\n",
      "jupyter_client               8.6.0\n",
      "jupyter_core                 5.7.1\n",
      "keras                        2.15.0\n",
      "kiwisolver                   1.4.5\n",
      "libclang                     16.0.6\n",
      "lvis                         0.5.3\n",
      "lvis                         0.5.3\n",
      "lxml                         5.1.0\n",
      "Markdown                     3.5.2\n",
      "markdown-it-py               3.0.0\n",
      "MarkupSafe                   2.1.5\n",
      "matplotlib                   3.8.3\n",
      "matplotlib-inline            0.1.6\n",
      "mdurl                        0.1.2\n",
      "ml-dtypes                    0.2.0\n",
      "msgpack                      1.0.7\n",
      "namex                        0.0.7\n",
      "namex                        0.0.7\n",
      "nest-asyncio                 1.6.0\n",
      "numpy                        1.24.3\n",
      "oauthlib                     3.2.2\n",
      "object-detection             0.1\n",
      "object-detection             0.1\n",
      "opencv-python                4.9.0.80\n",
      "opt-einsum                   3.3.0\n",
      "optax                        0.1.9\n",
      "orbax-checkpoint             0.4.4\n",
      "packaging                    23.2\n",
      "pandas                       2.2.0\n",
      "pandas                       2.2.0\n",
      "parso                        0.8.3\n",
      "pillow                       10.2.0\n",
      "pillow                       10.2.0\n",
      "pip                          24.0\n",
      "platformdirs                 4.2.0\n",
      "portalocker                  2.8.2\n",
      "portalocker                  2.8.2\n",
      "prompt-toolkit               3.0.43\n",
      "protobuf                     4.25.2\n",
      "psutil                       5.9.8\n",
      "pure-eval                    0.2.2\n",
      "pyarrow                      15.0.0\n",
      "pyasn1                       0.5.1\n",
      "pyasn1-modules               0.3.0\n",
      "pycocotools                  2.0.7\n",
      "pycocotools                  2.0.7\n",
      "pydeck                       0.8.1b0\n",
      "Pygments                     2.17.2\n",
      "pyparsing                    2.4.7\n",
      "pyparsing                    2.4.7\n",
      "PyQt5                        5.15.10\n",
      "PyQt5-Qt5                    5.15.2\n",
      "PyQt5-sip                    12.13.0\n",
      "PySocks                      1.7.1\n",
      "python-dateutil              2.8.2\n",
      "pytz                         2024.1\n",
      "pywin32                      306\n",
      "PyYAML                       6.0.1\n",
      "pyzmq                        25.1.2\n",
      "referencing                  0.33.0\n",
      "regex                        2023.12.25\n",
      "regex                        2023.12.25\n",
      "requests                     2.31.0\n",
      "requests-oauthlib            1.3.1\n",
      "rich                         13.7.0\n",
      "rich                         13.7.0\n",
      "rpds-py                      0.18.0\n",
      "rsa                          4.9\n",
      "sacrebleu                    2.2.0\n",
      "sacrebleu                    2.2.0\n",
      "scipy                        1.12.0\n",
      "scipy                        1.12.0\n",
      "setuptools                   65.5.0\n",
      "six                          1.16.0\n",
      "slim                         0.1        C:\\Users\\Farzona\\Youtube\\Tensorflow OD\\TFODCourse\\Tensorflow\\models\\research\\slim\n",
      "smmap                        5.0.1\n",
      "soupsieve                    2.5\n",
      "stack-data                   0.6.3\n",
      "streamlit                    1.31.1\n",
      "tabulate                     0.9.0\n",
      "tabulate                     0.9.0\n",
      "tenacity                     8.2.3\n",
      "tensorboard                  2.15.2\n",
      "tensorboard-data-server      0.7.2\n",
      "tensorflow                   2.14.0\n",
      "tensorflow                   2.15.0\n",
      "tensorflow-decision-forests  1.8.1\n",
      "tensorflow-estimator         2.15.0\n",
      "tensorflow-hub               0.16.1\n",
      "tensorflow-intel             2.15.0\n",
      "tensorflow-io                0.31.0\n",
      "tensorflow-io                0.31.0\n",
      "tensorflow-io-gcs-filesystem 0.31.0\n",
      "tensorflow-io-gcs-filesystem 0.31.0\n",
      "tensorflowjs                 4.17.0\n",
      "tensorstore                  0.1.45\n",
      "termcolor                    2.4.0\n",
      "tf-keras                     2.15.0\n",
      "tf-models-official           2.15.0\n",
      "tf-models-official           2.15.0\n",
      "tf-slim                      1.1.0\n",
      "tf-slim                      1.1.0\n",
      "toml                         0.10.2\n",
      "toolz                        0.12.1\n",
      "tornado                      6.4\n",
      "tqdm                         4.66.2\n",
      "traitlets                    5.14.1\n",
      "typing_extensions            4.5.0\n",
      "tzdata                       2024.1\n",
      "tzlocal                      5.2\n",
      "urllib3                      2.2.0\n",
      "validators                   0.22.0\n",
      "watchdog                     4.0.0\n",
      "wcwidth                      0.2.13\n",
      "Werkzeug                     3.0.1\n",
      "wget                         3.2\n",
      "wheel                        0.42.0\n",
      "wrapt                        1.14.1\n",
      "wurlitzer                    3.0.3\n",
      "zipp                         3.17.0\n"
     ]
    },
    {
     "name": "stderr",
     "output_type": "stream",
     "text": [
      "DEPRECATION: Loading egg at c:\\users\\farzona\\youtube\\tensorflow od\\tfodcourse\\tfod1\\lib\\site-packages\\absl_py-2.1.0-py3.11.egg is deprecated. pip 24.3 will enforce this behaviour change. A possible replacement is to use pip for package installation.. Discussion can be found at https://github.com/pypa/pip/issues/12330\n",
      "DEPRECATION: Loading egg at c:\\users\\farzona\\youtube\\tensorflow od\\tfodcourse\\tfod1\\lib\\site-packages\\apache_beam-2.54.0-py3.11-win-amd64.egg is deprecated. pip 24.3 will enforce this behaviour change. A possible replacement is to use pip for package installation.. Discussion can be found at https://github.com/pypa/pip/issues/12330\n",
      "DEPRECATION: Loading egg at c:\\users\\farzona\\youtube\\tensorflow od\\tfodcourse\\tfod1\\lib\\site-packages\\avro_python3-1.10.2-py3.11.egg is deprecated. pip 24.3 will enforce this behaviour change. A possible replacement is to use pip for package installation.. Discussion can be found at https://github.com/pypa/pip/issues/12330\n",
      "DEPRECATION: Loading egg at c:\\users\\farzona\\youtube\\tensorflow od\\tfodcourse\\tfod1\\lib\\site-packages\\contextlib2-21.6.0-py3.11.egg is deprecated. pip 24.3 will enforce this behaviour change. A possible replacement is to use pip for package installation.. Discussion can be found at https://github.com/pypa/pip/issues/12330\n",
      "DEPRECATION: Loading egg at c:\\users\\farzona\\youtube\\tensorflow od\\tfodcourse\\tfod1\\lib\\site-packages\\cython-3.0.8-py3.11.egg is deprecated. pip 24.3 will enforce this behaviour change. A possible replacement is to use pip for package installation.. Discussion can be found at https://github.com/pypa/pip/issues/12330\n",
      "DEPRECATION: Loading egg at c:\\users\\farzona\\youtube\\tensorflow od\\tfodcourse\\tfod1\\lib\\site-packages\\dm_tree-0.1.8-py3.11-win-amd64.egg is deprecated. pip 24.3 will enforce this behaviour change. A possible replacement is to use pip for package installation.. Discussion can be found at https://github.com/pypa/pip/issues/12330\n",
      "DEPRECATION: Loading egg at c:\\users\\farzona\\youtube\\tensorflow od\\tfodcourse\\tfod1\\lib\\site-packages\\h5py-3.10.0-py3.11-win-amd64.egg is deprecated. pip 24.3 will enforce this behaviour change. A possible replacement is to use pip for package installation.. Discussion can be found at https://github.com/pypa/pip/issues/12330\n",
      "DEPRECATION: Loading egg at c:\\users\\farzona\\youtube\\tensorflow od\\tfodcourse\\tfod1\\lib\\site-packages\\lvis-0.5.3-py3.11.egg is deprecated. pip 24.3 will enforce this behaviour change. A possible replacement is to use pip for package installation.. Discussion can be found at https://github.com/pypa/pip/issues/12330\n",
      "DEPRECATION: Loading egg at c:\\users\\farzona\\youtube\\tensorflow od\\tfodcourse\\tfod1\\lib\\site-packages\\namex-0.0.7-py3.11.egg is deprecated. pip 24.3 will enforce this behaviour change. A possible replacement is to use pip for package installation.. Discussion can be found at https://github.com/pypa/pip/issues/12330\n",
      "DEPRECATION: Loading egg at c:\\users\\farzona\\youtube\\tensorflow od\\tfodcourse\\tfod1\\lib\\site-packages\\object_detection-0.1-py3.11.egg is deprecated. pip 24.3 will enforce this behaviour change. A possible replacement is to use pip for package installation.. Discussion can be found at https://github.com/pypa/pip/issues/12330\n",
      "DEPRECATION: Loading egg at c:\\users\\farzona\\youtube\\tensorflow od\\tfodcourse\\tfod1\\lib\\site-packages\\pandas-2.2.0-py3.11-win-amd64.egg is deprecated. pip 24.3 will enforce this behaviour change. A possible replacement is to use pip for package installation.. Discussion can be found at https://github.com/pypa/pip/issues/12330\n",
      "DEPRECATION: Loading egg at c:\\users\\farzona\\youtube\\tensorflow od\\tfodcourse\\tfod1\\lib\\site-packages\\pillow-10.2.0-py3.11-win-amd64.egg is deprecated. pip 24.3 will enforce this behaviour change. A possible replacement is to use pip for package installation.. Discussion can be found at https://github.com/pypa/pip/issues/12330\n",
      "DEPRECATION: Loading egg at c:\\users\\farzona\\youtube\\tensorflow od\\tfodcourse\\tfod1\\lib\\site-packages\\portalocker-2.8.2-py3.11.egg is deprecated. pip 24.3 will enforce this behaviour change. A possible replacement is to use pip for package installation.. Discussion can be found at https://github.com/pypa/pip/issues/12330\n",
      "DEPRECATION: Loading egg at c:\\users\\farzona\\youtube\\tensorflow od\\tfodcourse\\tfod1\\lib\\site-packages\\pycocotools-2.0.7-py3.11-win-amd64.egg is deprecated. pip 24.3 will enforce this behaviour change. A possible replacement is to use pip for package installation.. Discussion can be found at https://github.com/pypa/pip/issues/12330\n",
      "DEPRECATION: Loading egg at c:\\users\\farzona\\youtube\\tensorflow od\\tfodcourse\\tfod1\\lib\\site-packages\\pyparsing-2.4.7-py3.11.egg is deprecated. pip 24.3 will enforce this behaviour change. A possible replacement is to use pip for package installation.. Discussion can be found at https://github.com/pypa/pip/issues/12330\n",
      "DEPRECATION: Loading egg at c:\\users\\farzona\\youtube\\tensorflow od\\tfodcourse\\tfod1\\lib\\site-packages\\regex-2023.12.25-py3.11-win-amd64.egg is deprecated. pip 24.3 will enforce this behaviour change. A possible replacement is to use pip for package installation.. Discussion can be found at https://github.com/pypa/pip/issues/12330\n",
      "DEPRECATION: Loading egg at c:\\users\\farzona\\youtube\\tensorflow od\\tfodcourse\\tfod1\\lib\\site-packages\\rich-13.7.0-py3.11.egg is deprecated. pip 24.3 will enforce this behaviour change. A possible replacement is to use pip for package installation.. Discussion can be found at https://github.com/pypa/pip/issues/12330\n",
      "DEPRECATION: Loading egg at c:\\users\\farzona\\youtube\\tensorflow od\\tfodcourse\\tfod1\\lib\\site-packages\\sacrebleu-2.2.0-py3.11.egg is deprecated. pip 24.3 will enforce this behaviour change. A possible replacement is to use pip for package installation.. Discussion can be found at https://github.com/pypa/pip/issues/12330\n",
      "DEPRECATION: Loading egg at c:\\users\\farzona\\youtube\\tensorflow od\\tfodcourse\\tfod1\\lib\\site-packages\\scipy-1.12.0-py3.11-win-amd64.egg is deprecated. pip 24.3 will enforce this behaviour change. A possible replacement is to use pip for package installation.. Discussion can be found at https://github.com/pypa/pip/issues/12330\n",
      "DEPRECATION: Loading egg at c:\\users\\farzona\\youtube\\tensorflow od\\tfodcourse\\tfod1\\lib\\site-packages\\tabulate-0.9.0-py3.11.egg is deprecated. pip 24.3 will enforce this behaviour change. A possible replacement is to use pip for package installation.. Discussion can be found at https://github.com/pypa/pip/issues/12330\n",
      "DEPRECATION: Loading egg at c:\\users\\farzona\\youtube\\tensorflow od\\tfodcourse\\tfod1\\lib\\site-packages\\tensorflow-2.15.0-py3.11-win-amd64.egg is deprecated. pip 24.3 will enforce this behaviour change. A possible replacement is to use pip for package installation.. Discussion can be found at https://github.com/pypa/pip/issues/12330\n",
      "DEPRECATION: Loading egg at c:\\users\\farzona\\youtube\\tensorflow od\\tfodcourse\\tfod1\\lib\\site-packages\\tensorflow_io-0.31.0-py3.11-win-amd64.egg is deprecated. pip 24.3 will enforce this behaviour change. A possible replacement is to use pip for package installation.. Discussion can be found at https://github.com/pypa/pip/issues/12330\n",
      "DEPRECATION: Loading egg at c:\\users\\farzona\\youtube\\tensorflow od\\tfodcourse\\tfod1\\lib\\site-packages\\tensorflow_io_gcs_filesystem-0.31.0-py3.11-win-amd64.egg is deprecated. pip 24.3 will enforce this behaviour change. A possible replacement is to use pip for package installation.. Discussion can be found at https://github.com/pypa/pip/issues/12330\n",
      "DEPRECATION: Loading egg at c:\\users\\farzona\\youtube\\tensorflow od\\tfodcourse\\tfod1\\lib\\site-packages\\tf_models_official-2.15.0-py3.11.egg is deprecated. pip 24.3 will enforce this behaviour change. A possible replacement is to use pip for package installation.. Discussion can be found at https://github.com/pypa/pip/issues/12330\n",
      "DEPRECATION: Loading egg at c:\\users\\farzona\\youtube\\tensorflow od\\tfodcourse\\tfod1\\lib\\site-packages\\tf_slim-1.1.0-py3.11.egg is deprecated. pip 24.3 will enforce this behaviour change. A possible replacement is to use pip for package installation.. Discussion can be found at https://github.com/pypa/pip/issues/12330\n"
     ]
    }
   ],
   "source": [
    "!pip list"
   ]
  },
  {
   "cell_type": "code",
   "execution_count": 2,
   "id": "02f907ea-f669-46c7-adcf-7f257e663448",
   "metadata": {
    "tags": []
   },
   "outputs": [
    {
     "name": "stdout",
     "output_type": "stream",
     "text": [
      "Requirement already satisfied: opencv-python in c:\\users\\farzona\\youtube\\tensorflow od\\tfodcourse\\tfod1\\lib\\site-packages (4.9.0.80)\n",
      "Requirement already satisfied: matplotlib in c:\\users\\farzona\\youtube\\tensorflow od\\tfodcourse\\tfod1\\lib\\site-packages (3.8.3)\n",
      "Requirement already satisfied: imageio in c:\\users\\farzona\\youtube\\tensorflow od\\tfodcourse\\tfod1\\lib\\site-packages (2.34.0)\n",
      "Requirement already satisfied: gdown in c:\\users\\farzona\\youtube\\tensorflow od\\tfodcourse\\tfod1\\lib\\site-packages (5.1.0)\n",
      "Requirement already satisfied: tensorflow in c:\\users\\farzona\\youtube\\tensorflow od\\tfodcourse\\tfod1\\lib\\site-packages\\tensorflow-2.15.0-py3.11-win-amd64.egg (2.15.0)\n",
      "Requirement already satisfied: numpy>=1.21.2 in c:\\users\\farzona\\youtube\\tensorflow od\\tfodcourse\\tfod1\\lib\\site-packages (from opencv-python) (1.24.3)\n",
      "Requirement already satisfied: contourpy>=1.0.1 in c:\\users\\farzona\\youtube\\tensorflow od\\tfodcourse\\tfod1\\lib\\site-packages (from matplotlib) (1.2.0)\n",
      "Requirement already satisfied: cycler>=0.10 in c:\\users\\farzona\\youtube\\tensorflow od\\tfodcourse\\tfod1\\lib\\site-packages (from matplotlib) (0.12.1)\n",
      "Requirement already satisfied: fonttools>=4.22.0 in c:\\users\\farzona\\youtube\\tensorflow od\\tfodcourse\\tfod1\\lib\\site-packages (from matplotlib) (4.48.1)\n",
      "Requirement already satisfied: kiwisolver>=1.3.1 in c:\\users\\farzona\\youtube\\tensorflow od\\tfodcourse\\tfod1\\lib\\site-packages (from matplotlib) (1.4.5)\n",
      "Requirement already satisfied: packaging>=20.0 in c:\\users\\farzona\\youtube\\tensorflow od\\tfodcourse\\tfod1\\lib\\site-packages (from matplotlib) (23.2)\n",
      "Requirement already satisfied: pillow>=8 in c:\\users\\farzona\\youtube\\tensorflow od\\tfodcourse\\tfod1\\lib\\site-packages\\pillow-10.2.0-py3.11-win-amd64.egg (from matplotlib) (10.2.0)\n",
      "Requirement already satisfied: pyparsing>=2.3.1 in c:\\users\\farzona\\youtube\\tensorflow od\\tfodcourse\\tfod1\\lib\\site-packages\\pyparsing-2.4.7-py3.11.egg (from matplotlib) (2.4.7)\n",
      "Requirement already satisfied: python-dateutil>=2.7 in c:\\users\\farzona\\youtube\\tensorflow od\\tfodcourse\\tfod1\\lib\\site-packages (from matplotlib) (2.8.2)\n",
      "Requirement already satisfied: beautifulsoup4 in c:\\users\\farzona\\youtube\\tensorflow od\\tfodcourse\\tfod1\\lib\\site-packages (from gdown) (4.12.3)\n",
      "Requirement already satisfied: filelock in c:\\users\\farzona\\youtube\\tensorflow od\\tfodcourse\\tfod1\\lib\\site-packages (from gdown) (3.13.1)\n",
      "Requirement already satisfied: requests[socks] in c:\\users\\farzona\\youtube\\tensorflow od\\tfodcourse\\tfod1\\lib\\site-packages (from gdown) (2.31.0)\n",
      "Requirement already satisfied: tqdm in c:\\users\\farzona\\youtube\\tensorflow od\\tfodcourse\\tfod1\\lib\\site-packages (from gdown) (4.66.2)\n",
      "Requirement already satisfied: tensorflow-intel==2.15.0 in c:\\users\\farzona\\youtube\\tensorflow od\\tfodcourse\\tfod1\\lib\\site-packages (from tensorflow) (2.15.0)\n",
      "Requirement already satisfied: absl-py>=1.0.0 in c:\\users\\farzona\\youtube\\tensorflow od\\tfodcourse\\tfod1\\lib\\site-packages\\absl_py-2.1.0-py3.11.egg (from tensorflow-intel==2.15.0->tensorflow) (2.1.0)\n",
      "Requirement already satisfied: astunparse>=1.6.0 in c:\\users\\farzona\\youtube\\tensorflow od\\tfodcourse\\tfod1\\lib\\site-packages (from tensorflow-intel==2.15.0->tensorflow) (1.6.3)\n",
      "Requirement already satisfied: flatbuffers>=23.5.26 in c:\\users\\farzona\\youtube\\tensorflow od\\tfodcourse\\tfod1\\lib\\site-packages (from tensorflow-intel==2.15.0->tensorflow) (23.5.26)\n",
      "Requirement already satisfied: gast!=0.5.0,!=0.5.1,!=0.5.2,>=0.2.1 in c:\\users\\farzona\\youtube\\tensorflow od\\tfodcourse\\tfod1\\lib\\site-packages (from tensorflow-intel==2.15.0->tensorflow) (0.4.0)\n",
      "Requirement already satisfied: google-pasta>=0.1.1 in c:\\users\\farzona\\youtube\\tensorflow od\\tfodcourse\\tfod1\\lib\\site-packages (from tensorflow-intel==2.15.0->tensorflow) (0.2.0)\n",
      "Requirement already satisfied: h5py>=2.9.0 in c:\\users\\farzona\\youtube\\tensorflow od\\tfodcourse\\tfod1\\lib\\site-packages\\h5py-3.10.0-py3.11-win-amd64.egg (from tensorflow-intel==2.15.0->tensorflow) (3.10.0)\n",
      "Requirement already satisfied: libclang>=13.0.0 in c:\\users\\farzona\\youtube\\tensorflow od\\tfodcourse\\tfod1\\lib\\site-packages (from tensorflow-intel==2.15.0->tensorflow) (16.0.6)\n",
      "Requirement already satisfied: ml-dtypes~=0.2.0 in c:\\users\\farzona\\youtube\\tensorflow od\\tfodcourse\\tfod1\\lib\\site-packages (from tensorflow-intel==2.15.0->tensorflow) (0.2.0)\n",
      "Requirement already satisfied: opt-einsum>=2.3.2 in c:\\users\\farzona\\youtube\\tensorflow od\\tfodcourse\\tfod1\\lib\\site-packages (from tensorflow-intel==2.15.0->tensorflow) (3.3.0)\n",
      "Requirement already satisfied: protobuf!=4.21.0,!=4.21.1,!=4.21.2,!=4.21.3,!=4.21.4,!=4.21.5,<5.0.0dev,>=3.20.3 in c:\\users\\farzona\\youtube\\tensorflow od\\tfodcourse\\tfod1\\lib\\site-packages (from tensorflow-intel==2.15.0->tensorflow) (4.25.2)\n",
      "Requirement already satisfied: setuptools in c:\\users\\farzona\\youtube\\tensorflow od\\tfodcourse\\tfod1\\lib\\site-packages (from tensorflow-intel==2.15.0->tensorflow) (65.5.0)\n",
      "Requirement already satisfied: six>=1.12.0 in c:\\users\\farzona\\youtube\\tensorflow od\\tfodcourse\\tfod1\\lib\\site-packages (from tensorflow-intel==2.15.0->tensorflow) (1.16.0)\n",
      "Requirement already satisfied: termcolor>=1.1.0 in c:\\users\\farzona\\youtube\\tensorflow od\\tfodcourse\\tfod1\\lib\\site-packages (from tensorflow-intel==2.15.0->tensorflow) (2.4.0)\n",
      "Requirement already satisfied: typing-extensions>=3.6.6 in c:\\users\\farzona\\youtube\\tensorflow od\\tfodcourse\\tfod1\\lib\\site-packages (from tensorflow-intel==2.15.0->tensorflow) (4.5.0)\n",
      "Requirement already satisfied: wrapt<1.15,>=1.11.0 in c:\\users\\farzona\\youtube\\tensorflow od\\tfodcourse\\tfod1\\lib\\site-packages (from tensorflow-intel==2.15.0->tensorflow) (1.14.1)\n",
      "Requirement already satisfied: tensorflow-io-gcs-filesystem>=0.23.1 in c:\\users\\farzona\\youtube\\tensorflow od\\tfodcourse\\tfod1\\lib\\site-packages\\tensorflow_io_gcs_filesystem-0.31.0-py3.11-win-amd64.egg (from tensorflow-intel==2.15.0->tensorflow) (0.31.0)\n",
      "Requirement already satisfied: grpcio<2.0,>=1.24.3 in c:\\users\\farzona\\youtube\\tensorflow od\\tfodcourse\\tfod1\\lib\\site-packages (from tensorflow-intel==2.15.0->tensorflow) (1.60.1)\n",
      "Requirement already satisfied: tensorboard<2.16,>=2.15 in c:\\users\\farzona\\youtube\\tensorflow od\\tfodcourse\\tfod1\\lib\\site-packages (from tensorflow-intel==2.15.0->tensorflow) (2.15.2)\n",
      "Requirement already satisfied: tensorflow-estimator<2.16,>=2.15.0 in c:\\users\\farzona\\youtube\\tensorflow od\\tfodcourse\\tfod1\\lib\\site-packages (from tensorflow-intel==2.15.0->tensorflow) (2.15.0)\n",
      "Requirement already satisfied: keras<2.16,>=2.15.0 in c:\\users\\farzona\\youtube\\tensorflow od\\tfodcourse\\tfod1\\lib\\site-packages (from tensorflow-intel==2.15.0->tensorflow) (2.15.0)\n",
      "Requirement already satisfied: soupsieve>1.2 in c:\\users\\farzona\\youtube\\tensorflow od\\tfodcourse\\tfod1\\lib\\site-packages (from beautifulsoup4->gdown) (2.5)\n",
      "Requirement already satisfied: charset-normalizer<4,>=2 in c:\\users\\farzona\\youtube\\tensorflow od\\tfodcourse\\tfod1\\lib\\site-packages (from requests[socks]->gdown) (3.3.2)\n",
      "Requirement already satisfied: idna<4,>=2.5 in c:\\users\\farzona\\youtube\\tensorflow od\\tfodcourse\\tfod1\\lib\\site-packages (from requests[socks]->gdown) (3.6)\n",
      "Requirement already satisfied: urllib3<3,>=1.21.1 in c:\\users\\farzona\\youtube\\tensorflow od\\tfodcourse\\tfod1\\lib\\site-packages (from requests[socks]->gdown) (2.2.0)\n",
      "Requirement already satisfied: certifi>=2017.4.17 in c:\\users\\farzona\\youtube\\tensorflow od\\tfodcourse\\tfod1\\lib\\site-packages (from requests[socks]->gdown) (2024.2.2)\n",
      "Requirement already satisfied: PySocks!=1.5.7,>=1.5.6 in c:\\users\\farzona\\youtube\\tensorflow od\\tfodcourse\\tfod1\\lib\\site-packages (from requests[socks]->gdown) (1.7.1)\n",
      "Requirement already satisfied: colorama in c:\\users\\farzona\\youtube\\tensorflow od\\tfodcourse\\tfod1\\lib\\site-packages (from tqdm->gdown) (0.4.6)\n",
      "Requirement already satisfied: wheel<1.0,>=0.23.0 in c:\\users\\farzona\\youtube\\tensorflow od\\tfodcourse\\tfod1\\lib\\site-packages (from astunparse>=1.6.0->tensorflow-intel==2.15.0->tensorflow) (0.42.0)\n",
      "Requirement already satisfied: google-auth<3,>=1.6.3 in c:\\users\\farzona\\youtube\\tensorflow od\\tfodcourse\\tfod1\\lib\\site-packages (from tensorboard<2.16,>=2.15->tensorflow-intel==2.15.0->tensorflow) (2.27.0)\n",
      "Requirement already satisfied: google-auth-oauthlib<2,>=0.5 in c:\\users\\farzona\\youtube\\tensorflow od\\tfodcourse\\tfod1\\lib\\site-packages (from tensorboard<2.16,>=2.15->tensorflow-intel==2.15.0->tensorflow) (1.0.0)\n",
      "Requirement already satisfied: markdown>=2.6.8 in c:\\users\\farzona\\youtube\\tensorflow od\\tfodcourse\\tfod1\\lib\\site-packages (from tensorboard<2.16,>=2.15->tensorflow-intel==2.15.0->tensorflow) (3.5.2)\n",
      "Requirement already satisfied: tensorboard-data-server<0.8.0,>=0.7.0 in c:\\users\\farzona\\youtube\\tensorflow od\\tfodcourse\\tfod1\\lib\\site-packages (from tensorboard<2.16,>=2.15->tensorflow-intel==2.15.0->tensorflow) (0.7.2)\n",
      "Requirement already satisfied: werkzeug>=1.0.1 in c:\\users\\farzona\\youtube\\tensorflow od\\tfodcourse\\tfod1\\lib\\site-packages (from tensorboard<2.16,>=2.15->tensorflow-intel==2.15.0->tensorflow) (3.0.1)\n",
      "Requirement already satisfied: cachetools<6.0,>=2.0.0 in c:\\users\\farzona\\youtube\\tensorflow od\\tfodcourse\\tfod1\\lib\\site-packages (from google-auth<3,>=1.6.3->tensorboard<2.16,>=2.15->tensorflow-intel==2.15.0->tensorflow) (5.3.2)\n",
      "Requirement already satisfied: pyasn1-modules>=0.2.1 in c:\\users\\farzona\\youtube\\tensorflow od\\tfodcourse\\tfod1\\lib\\site-packages (from google-auth<3,>=1.6.3->tensorboard<2.16,>=2.15->tensorflow-intel==2.15.0->tensorflow) (0.3.0)\n",
      "Requirement already satisfied: rsa<5,>=3.1.4 in c:\\users\\farzona\\youtube\\tensorflow od\\tfodcourse\\tfod1\\lib\\site-packages (from google-auth<3,>=1.6.3->tensorboard<2.16,>=2.15->tensorflow-intel==2.15.0->tensorflow) (4.9)\n",
      "Requirement already satisfied: requests-oauthlib>=0.7.0 in c:\\users\\farzona\\youtube\\tensorflow od\\tfodcourse\\tfod1\\lib\\site-packages (from google-auth-oauthlib<2,>=0.5->tensorboard<2.16,>=2.15->tensorflow-intel==2.15.0->tensorflow) (1.3.1)\n",
      "Requirement already satisfied: MarkupSafe>=2.1.1 in c:\\users\\farzona\\youtube\\tensorflow od\\tfodcourse\\tfod1\\lib\\site-packages (from werkzeug>=1.0.1->tensorboard<2.16,>=2.15->tensorflow-intel==2.15.0->tensorflow) (2.1.5)\n",
      "Requirement already satisfied: pyasn1<0.6.0,>=0.4.6 in c:\\users\\farzona\\youtube\\tensorflow od\\tfodcourse\\tfod1\\lib\\site-packages (from pyasn1-modules>=0.2.1->google-auth<3,>=1.6.3->tensorboard<2.16,>=2.15->tensorflow-intel==2.15.0->tensorflow) (0.5.1)\n",
      "Requirement already satisfied: oauthlib>=3.0.0 in c:\\users\\farzona\\youtube\\tensorflow od\\tfodcourse\\tfod1\\lib\\site-packages (from requests-oauthlib>=0.7.0->google-auth-oauthlib<2,>=0.5->tensorboard<2.16,>=2.15->tensorflow-intel==2.15.0->tensorflow) (3.2.2)\n"
     ]
    },
    {
     "name": "stderr",
     "output_type": "stream",
     "text": [
      "DEPRECATION: Loading egg at c:\\users\\farzona\\youtube\\tensorflow od\\tfodcourse\\tfod1\\lib\\site-packages\\absl_py-2.1.0-py3.11.egg is deprecated. pip 24.3 will enforce this behaviour change. A possible replacement is to use pip for package installation.. Discussion can be found at https://github.com/pypa/pip/issues/12330\n",
      "DEPRECATION: Loading egg at c:\\users\\farzona\\youtube\\tensorflow od\\tfodcourse\\tfod1\\lib\\site-packages\\apache_beam-2.54.0-py3.11-win-amd64.egg is deprecated. pip 24.3 will enforce this behaviour change. A possible replacement is to use pip for package installation.. Discussion can be found at https://github.com/pypa/pip/issues/12330\n",
      "DEPRECATION: Loading egg at c:\\users\\farzona\\youtube\\tensorflow od\\tfodcourse\\tfod1\\lib\\site-packages\\avro_python3-1.10.2-py3.11.egg is deprecated. pip 24.3 will enforce this behaviour change. A possible replacement is to use pip for package installation.. Discussion can be found at https://github.com/pypa/pip/issues/12330\n",
      "DEPRECATION: Loading egg at c:\\users\\farzona\\youtube\\tensorflow od\\tfodcourse\\tfod1\\lib\\site-packages\\contextlib2-21.6.0-py3.11.egg is deprecated. pip 24.3 will enforce this behaviour change. A possible replacement is to use pip for package installation.. Discussion can be found at https://github.com/pypa/pip/issues/12330\n",
      "DEPRECATION: Loading egg at c:\\users\\farzona\\youtube\\tensorflow od\\tfodcourse\\tfod1\\lib\\site-packages\\cython-3.0.8-py3.11.egg is deprecated. pip 24.3 will enforce this behaviour change. A possible replacement is to use pip for package installation.. Discussion can be found at https://github.com/pypa/pip/issues/12330\n",
      "DEPRECATION: Loading egg at c:\\users\\farzona\\youtube\\tensorflow od\\tfodcourse\\tfod1\\lib\\site-packages\\dm_tree-0.1.8-py3.11-win-amd64.egg is deprecated. pip 24.3 will enforce this behaviour change. A possible replacement is to use pip for package installation.. Discussion can be found at https://github.com/pypa/pip/issues/12330\n",
      "DEPRECATION: Loading egg at c:\\users\\farzona\\youtube\\tensorflow od\\tfodcourse\\tfod1\\lib\\site-packages\\h5py-3.10.0-py3.11-win-amd64.egg is deprecated. pip 24.3 will enforce this behaviour change. A possible replacement is to use pip for package installation.. Discussion can be found at https://github.com/pypa/pip/issues/12330\n",
      "DEPRECATION: Loading egg at c:\\users\\farzona\\youtube\\tensorflow od\\tfodcourse\\tfod1\\lib\\site-packages\\lvis-0.5.3-py3.11.egg is deprecated. pip 24.3 will enforce this behaviour change. A possible replacement is to use pip for package installation.. Discussion can be found at https://github.com/pypa/pip/issues/12330\n",
      "DEPRECATION: Loading egg at c:\\users\\farzona\\youtube\\tensorflow od\\tfodcourse\\tfod1\\lib\\site-packages\\namex-0.0.7-py3.11.egg is deprecated. pip 24.3 will enforce this behaviour change. A possible replacement is to use pip for package installation.. Discussion can be found at https://github.com/pypa/pip/issues/12330\n",
      "DEPRECATION: Loading egg at c:\\users\\farzona\\youtube\\tensorflow od\\tfodcourse\\tfod1\\lib\\site-packages\\object_detection-0.1-py3.11.egg is deprecated. pip 24.3 will enforce this behaviour change. A possible replacement is to use pip for package installation.. Discussion can be found at https://github.com/pypa/pip/issues/12330\n",
      "DEPRECATION: Loading egg at c:\\users\\farzona\\youtube\\tensorflow od\\tfodcourse\\tfod1\\lib\\site-packages\\pandas-2.2.0-py3.11-win-amd64.egg is deprecated. pip 24.3 will enforce this behaviour change. A possible replacement is to use pip for package installation.. Discussion can be found at https://github.com/pypa/pip/issues/12330\n",
      "DEPRECATION: Loading egg at c:\\users\\farzona\\youtube\\tensorflow od\\tfodcourse\\tfod1\\lib\\site-packages\\pillow-10.2.0-py3.11-win-amd64.egg is deprecated. pip 24.3 will enforce this behaviour change. A possible replacement is to use pip for package installation.. Discussion can be found at https://github.com/pypa/pip/issues/12330\n",
      "DEPRECATION: Loading egg at c:\\users\\farzona\\youtube\\tensorflow od\\tfodcourse\\tfod1\\lib\\site-packages\\portalocker-2.8.2-py3.11.egg is deprecated. pip 24.3 will enforce this behaviour change. A possible replacement is to use pip for package installation.. Discussion can be found at https://github.com/pypa/pip/issues/12330\n",
      "DEPRECATION: Loading egg at c:\\users\\farzona\\youtube\\tensorflow od\\tfodcourse\\tfod1\\lib\\site-packages\\pycocotools-2.0.7-py3.11-win-amd64.egg is deprecated. pip 24.3 will enforce this behaviour change. A possible replacement is to use pip for package installation.. Discussion can be found at https://github.com/pypa/pip/issues/12330\n",
      "DEPRECATION: Loading egg at c:\\users\\farzona\\youtube\\tensorflow od\\tfodcourse\\tfod1\\lib\\site-packages\\pyparsing-2.4.7-py3.11.egg is deprecated. pip 24.3 will enforce this behaviour change. A possible replacement is to use pip for package installation.. Discussion can be found at https://github.com/pypa/pip/issues/12330\n",
      "DEPRECATION: Loading egg at c:\\users\\farzona\\youtube\\tensorflow od\\tfodcourse\\tfod1\\lib\\site-packages\\regex-2023.12.25-py3.11-win-amd64.egg is deprecated. pip 24.3 will enforce this behaviour change. A possible replacement is to use pip for package installation.. Discussion can be found at https://github.com/pypa/pip/issues/12330\n",
      "DEPRECATION: Loading egg at c:\\users\\farzona\\youtube\\tensorflow od\\tfodcourse\\tfod1\\lib\\site-packages\\rich-13.7.0-py3.11.egg is deprecated. pip 24.3 will enforce this behaviour change. A possible replacement is to use pip for package installation.. Discussion can be found at https://github.com/pypa/pip/issues/12330\n",
      "DEPRECATION: Loading egg at c:\\users\\farzona\\youtube\\tensorflow od\\tfodcourse\\tfod1\\lib\\site-packages\\sacrebleu-2.2.0-py3.11.egg is deprecated. pip 24.3 will enforce this behaviour change. A possible replacement is to use pip for package installation.. Discussion can be found at https://github.com/pypa/pip/issues/12330\n",
      "DEPRECATION: Loading egg at c:\\users\\farzona\\youtube\\tensorflow od\\tfodcourse\\tfod1\\lib\\site-packages\\scipy-1.12.0-py3.11-win-amd64.egg is deprecated. pip 24.3 will enforce this behaviour change. A possible replacement is to use pip for package installation.. Discussion can be found at https://github.com/pypa/pip/issues/12330\n",
      "DEPRECATION: Loading egg at c:\\users\\farzona\\youtube\\tensorflow od\\tfodcourse\\tfod1\\lib\\site-packages\\tabulate-0.9.0-py3.11.egg is deprecated. pip 24.3 will enforce this behaviour change. A possible replacement is to use pip for package installation.. Discussion can be found at https://github.com/pypa/pip/issues/12330\n",
      "DEPRECATION: Loading egg at c:\\users\\farzona\\youtube\\tensorflow od\\tfodcourse\\tfod1\\lib\\site-packages\\tensorflow-2.15.0-py3.11-win-amd64.egg is deprecated. pip 24.3 will enforce this behaviour change. A possible replacement is to use pip for package installation.. Discussion can be found at https://github.com/pypa/pip/issues/12330\n",
      "DEPRECATION: Loading egg at c:\\users\\farzona\\youtube\\tensorflow od\\tfodcourse\\tfod1\\lib\\site-packages\\tensorflow_io-0.31.0-py3.11-win-amd64.egg is deprecated. pip 24.3 will enforce this behaviour change. A possible replacement is to use pip for package installation.. Discussion can be found at https://github.com/pypa/pip/issues/12330\n",
      "DEPRECATION: Loading egg at c:\\users\\farzona\\youtube\\tensorflow od\\tfodcourse\\tfod1\\lib\\site-packages\\tensorflow_io_gcs_filesystem-0.31.0-py3.11-win-amd64.egg is deprecated. pip 24.3 will enforce this behaviour change. A possible replacement is to use pip for package installation.. Discussion can be found at https://github.com/pypa/pip/issues/12330\n",
      "DEPRECATION: Loading egg at c:\\users\\farzona\\youtube\\tensorflow od\\tfodcourse\\tfod1\\lib\\site-packages\\tf_models_official-2.15.0-py3.11.egg is deprecated. pip 24.3 will enforce this behaviour change. A possible replacement is to use pip for package installation.. Discussion can be found at https://github.com/pypa/pip/issues/12330\n",
      "DEPRECATION: Loading egg at c:\\users\\farzona\\youtube\\tensorflow od\\tfodcourse\\tfod1\\lib\\site-packages\\tf_slim-1.1.0-py3.11.egg is deprecated. pip 24.3 will enforce this behaviour change. A possible replacement is to use pip for package installation.. Discussion can be found at https://github.com/pypa/pip/issues/12330\n"
     ]
    }
   ],
   "source": [
    "!pip install opencv-python matplotlib imageio gdown tensorflow"
   ]
  },
  {
   "cell_type": "code",
   "execution_count": 3,
   "id": "b24af50c-20b8-409d-ad78-30a933fdd669",
   "metadata": {
    "tags": []
   },
   "outputs": [
    {
     "name": "stdout",
     "output_type": "stream",
     "text": [
      "WARNING:tensorflow:From C:\\Users\\Farzona\\Youtube\\Tensorflow OD\\TFODCourse\\tfod1\\Lib\\site-packages\\keras\\src\\losses.py:2976: The name tf.losses.sparse_softmax_cross_entropy is deprecated. Please use tf.compat.v1.losses.sparse_softmax_cross_entropy instead.\n",
      "\n"
     ]
    }
   ],
   "source": [
    "import os\n",
    "import cv2\n",
    "import tensorflow as tf\n",
    "import numpy as np\n",
    "from typing import List\n",
    "from matplotlib import pyplot as plt\n",
    "import imageio"
   ]
  },
  {
   "cell_type": "code",
   "execution_count": 4,
   "id": "1e3db0b0-e559-4ad6-91fd-e7414b7d75e6",
   "metadata": {},
   "outputs": [
    {
     "data": {
      "text/plain": [
       "[]"
      ]
     },
     "execution_count": 4,
     "metadata": {},
     "output_type": "execute_result"
    }
   ],
   "source": [
    "tf.config.list_physical_devices('GPU')"
   ]
  },
  {
   "cell_type": "code",
   "execution_count": 5,
   "id": "378d045a-3003-4f93-b7d2-a25a97774a68",
   "metadata": {
    "tags": []
   },
   "outputs": [],
   "source": [
    "physical_devices = tf.config.list_physical_devices('GPU')\n",
    "try:\n",
    "    tf.config.experimental.set_memory_growth(physical_devices[0], True)\n",
    "except:\n",
    "    pass"
   ]
  },
  {
   "cell_type": "markdown",
   "id": "7a19e88e-c7b9-45c1-ae1e-f2109329c71b",
   "metadata": {
    "tags": []
   },
   "source": [
    "# 1. Build Data Loading Functions"
   ]
  },
  {
   "cell_type": "code",
   "execution_count": 6,
   "id": "8fb99c90-e05a-437f-839d-6e772f8c1dd5",
   "metadata": {
    "tags": []
   },
   "outputs": [],
   "source": [
    "import gdown"
   ]
  },
  {
   "cell_type": "code",
   "execution_count": 7,
   "id": "c019e4c6-2af3-4160-99ea-5c8cb009f1a7",
   "metadata": {
    "tags": []
   },
   "outputs": [],
   "source": [
    "url = 'https://drive.google.com/uc?id=1YlvpDLix3S-U8fd-gqRwPcWXAXm8JwjL'\n",
    "output = 'data.zip'\n",
    "#gdown.download(url, output, quiet=False)\n",
    "#gdown.extractall('data.zip')"
   ]
  },
  {
   "cell_type": "code",
   "execution_count": 8,
   "id": "8548cc59-6dfc-4acc-abc3-3e65212db02e",
   "metadata": {
    "tags": []
   },
   "outputs": [],
   "source": [
    "def load_video(path:str) -> List[float]: \n",
    "\n",
    "    cap = cv2.VideoCapture(path)\n",
    "    frames = []\n",
    "    for _ in range(int(cap.get(cv2.CAP_PROP_FRAME_COUNT))): \n",
    "        ret, frame = cap.read()\n",
    "        frame = tf.image.rgb_to_grayscale(frame)\n",
    "        frames.append(frame[190:236,80:220,:])\n",
    "    cap.release()\n",
    "    \n",
    "    mean = tf.math.reduce_mean(frames)\n",
    "    std = tf.math.reduce_std(tf.cast(frames, tf.float32))\n",
    "    return tf.cast((frames - mean), tf.float32) / std"
   ]
  },
  {
   "cell_type": "code",
   "execution_count": 9,
   "id": "ec735e0b-ec98-4eb0-8f49-c35527d6670a",
   "metadata": {
    "tags": []
   },
   "outputs": [],
   "source": [
    "vocab = [x for x in \"abcdefghijklmnopqrstuvwxyz'?!123456789 \"]"
   ]
  },
  {
   "cell_type": "code",
   "execution_count": 10,
   "id": "be04e972-d7a5-4a72-82d8-a6bdde1f3ce6",
   "metadata": {
    "tags": []
   },
   "outputs": [
    {
     "name": "stdout",
     "output_type": "stream",
     "text": [
      "WARNING:tensorflow:From C:\\Users\\Farzona\\Youtube\\Tensorflow OD\\TFODCourse\\tfod1\\Lib\\site-packages\\keras\\src\\backend.py:873: The name tf.get_default_graph is deprecated. Please use tf.compat.v1.get_default_graph instead.\n",
      "\n",
      "The vocabulary is: ['', 'a', 'b', 'c', 'd', 'e', 'f', 'g', 'h', 'i', 'j', 'k', 'l', 'm', 'n', 'o', 'p', 'q', 'r', 's', 't', 'u', 'v', 'w', 'x', 'y', 'z', \"'\", '?', '!', '1', '2', '3', '4', '5', '6', '7', '8', '9', ' '] (size =40)\n"
     ]
    }
   ],
   "source": [
    "char_to_num = tf.keras.layers.StringLookup(vocabulary=vocab, oov_token=\"\")\n",
    "num_to_char = tf.keras.layers.StringLookup(\n",
    "    vocabulary=char_to_num.get_vocabulary(), oov_token=\"\", invert=True\n",
    ")\n",
    "\n",
    "print(\n",
    "    f\"The vocabulary is: {char_to_num.get_vocabulary()} \"\n",
    "    f\"(size ={char_to_num.vocabulary_size()})\"\n",
    ")"
   ]
  },
  {
   "cell_type": "code",
   "execution_count": 11,
   "id": "559f7420-6802-45fa-9ca0-b1ff209b461c",
   "metadata": {
    "tags": []
   },
   "outputs": [
    {
     "data": {
      "text/plain": [
       "['',\n",
       " 'a',\n",
       " 'b',\n",
       " 'c',\n",
       " 'd',\n",
       " 'e',\n",
       " 'f',\n",
       " 'g',\n",
       " 'h',\n",
       " 'i',\n",
       " 'j',\n",
       " 'k',\n",
       " 'l',\n",
       " 'm',\n",
       " 'n',\n",
       " 'o',\n",
       " 'p',\n",
       " 'q',\n",
       " 'r',\n",
       " 's',\n",
       " 't',\n",
       " 'u',\n",
       " 'v',\n",
       " 'w',\n",
       " 'x',\n",
       " 'y',\n",
       " 'z',\n",
       " \"'\",\n",
       " '?',\n",
       " '!',\n",
       " '1',\n",
       " '2',\n",
       " '3',\n",
       " '4',\n",
       " '5',\n",
       " '6',\n",
       " '7',\n",
       " '8',\n",
       " '9',\n",
       " ' ']"
      ]
     },
     "execution_count": 11,
     "metadata": {},
     "output_type": "execute_result"
    }
   ],
   "source": [
    "char_to_num.get_vocabulary()"
   ]
  },
  {
   "cell_type": "code",
   "execution_count": 12,
   "id": "797ff78b-b48f-4e14-bb62-8cd0ebf9501a",
   "metadata": {
    "tags": []
   },
   "outputs": [
    {
     "name": "stdout",
     "output_type": "stream",
     "text": [
      "WARNING:tensorflow:From C:\\Users\\Farzona\\Youtube\\Tensorflow OD\\TFODCourse\\tfod1\\Lib\\site-packages\\keras\\src\\utils\\tf_utils.py:492: The name tf.ragged.RaggedTensorValue is deprecated. Please use tf.compat.v1.ragged.RaggedTensorValue instead.\n",
      "\n"
     ]
    },
    {
     "data": {
      "text/plain": [
       "<tf.Tensor: shape=(4,), dtype=int64, numpy=array([14,  9,  3, 11], dtype=int64)>"
      ]
     },
     "execution_count": 12,
     "metadata": {},
     "output_type": "execute_result"
    }
   ],
   "source": [
    "char_to_num(['n','i','c','k'])"
   ]
  },
  {
   "cell_type": "code",
   "execution_count": 13,
   "id": "8cd7f4f4-ae77-4509-a4f4-c723787ebad1",
   "metadata": {},
   "outputs": [
    {
     "data": {
      "text/plain": [
       "<tf.Tensor: shape=(4,), dtype=string, numpy=array([b'n', b'i', b'c', b'k'], dtype=object)>"
      ]
     },
     "execution_count": 13,
     "metadata": {},
     "output_type": "execute_result"
    }
   ],
   "source": [
    "num_to_char([14,  9,  3, 11])"
   ]
  },
  {
   "cell_type": "code",
   "execution_count": 14,
   "id": "9491bab5-6a3c-4f79-879a-8f9fbe73ae2e",
   "metadata": {
    "tags": []
   },
   "outputs": [],
   "source": [
    "def load_alignments(path:str) -> List[str]: \n",
    "    with open(path, 'r') as f: \n",
    "        lines = f.readlines() \n",
    "    tokens = []\n",
    "    for line in lines:\n",
    "        line = line.split()\n",
    "        if line[2] != 'sil': \n",
    "            tokens = [*tokens,' ',line[2]]\n",
    "    return char_to_num(tf.reshape(tf.strings.unicode_split(tokens, input_encoding='UTF-8'), (-1)))[1:]"
   ]
  },
  {
   "cell_type": "code",
   "execution_count": 15,
   "id": "dd01ca9f-77fb-4643-a2aa-47dd82c5d66b",
   "metadata": {
    "tags": []
   },
   "outputs": [],
   "source": [
    "def load_data(path: str): \n",
    "    path = bytes.decode(path.numpy())\n",
    "    #file_name = path.split('/')[-1].split('.')[0]\n",
    "    # File name splitting for windows\n",
    "    file_name = path.split('\\\\')[-1].split('.')[0]\n",
    "    video_path = os.path.join('data','s1',f'{file_name}.mpg')\n",
    "    alignment_path = os.path.join('data','alignments','s1',f'{file_name}.align')\n",
    "    frames = load_video(video_path) \n",
    "    alignments = load_alignments(alignment_path)\n",
    "    \n",
    "    return frames, alignments"
   ]
  },
  {
   "cell_type": "code",
   "execution_count": 16,
   "id": "8cb7cc58-31ae-4904-a805-1177a82717d2",
   "metadata": {
    "tags": []
   },
   "outputs": [],
   "source": [
    "test_path = '.\\\\data\\\\s1\\\\bbal6n.mpg'"
   ]
  },
  {
   "cell_type": "code",
   "execution_count": 17,
   "id": "76aa964f-0c84-490d-897a-d00e3966e2c9",
   "metadata": {},
   "outputs": [
    {
     "data": {
      "text/plain": [
       "'bbal6n'"
      ]
     },
     "execution_count": 17,
     "metadata": {},
     "output_type": "execute_result"
    }
   ],
   "source": [
    "tf.convert_to_tensor(test_path).numpy().decode('utf-8').split('\\\\')[-1].split('.')[0]"
   ]
  },
  {
   "cell_type": "code",
   "execution_count": 18,
   "id": "eb602c71-8560-4f9e-b26b-08202febb937",
   "metadata": {
    "scrolled": true,
    "tags": []
   },
   "outputs": [],
   "source": [
    "frames, alignments = load_data(tf.convert_to_tensor(test_path))"
   ]
  },
  {
   "cell_type": "code",
   "execution_count": 19,
   "id": "0e3184a1-6b02-4b4f-84a8-a0a65f951ea2",
   "metadata": {},
   "outputs": [
    {
     "data": {
      "text/plain": [
       "<matplotlib.image.AxesImage at 0x133af2ddc90>"
      ]
     },
     "execution_count": 19,
     "metadata": {},
     "output_type": "execute_result"
    },
    {
     "data": {
      "image/png": "[encoded data removed]",
      "text/plain": [
       "<Figure size 640x480 with 1 Axes>"
      ]
     },
     "metadata": {},
     "output_type": "display_data"
    }
   ],
   "source": [
    "plt.imshow(frames[40])"
   ]
  },
  {
   "cell_type": "code",
   "execution_count": 20,
   "id": "d7ec0833-d54b-4073-84cf-92d011c60ec1",
   "metadata": {},
   "outputs": [
    {
     "data": {
      "text/plain": [
       "<tf.Tensor: shape=(21,), dtype=int64, numpy=\n",
       "array([ 2,  9, 14, 39,  2, 12, 21,  5, 39,  1, 20, 39, 12, 39, 19,  9, 24,\n",
       "       39, 14, 15, 23], dtype=int64)>"
      ]
     },
     "execution_count": 20,
     "metadata": {},
     "output_type": "execute_result"
    }
   ],
   "source": [
    "alignments"
   ]
  },
  {
   "cell_type": "code",
   "execution_count": 21,
   "id": "fe1ad370-b287-4b46-85a2-7c45b0bd9b10",
   "metadata": {},
   "outputs": [
    {
     "data": {
      "text/plain": [
       "<tf.Tensor: shape=(), dtype=string, numpy=b'bin blue at l six now'>"
      ]
     },
     "execution_count": 21,
     "metadata": {},
     "output_type": "execute_result"
    }
   ],
   "source": [
    "tf.strings.reduce_join([bytes.decode(x) for x in num_to_char(alignments.numpy()).numpy()])"
   ]
  },
  {
   "cell_type": "code",
   "execution_count": 22,
   "id": "6871031a-b0ba-4c76-a852-f6329b0f2606",
   "metadata": {
    "tags": []
   },
   "outputs": [],
   "source": [
    "def mappable_function(path:str) ->List[str]:\n",
    "    result = tf.py_function(load_data, [path], (tf.float32, tf.int64))\n",
    "    return result"
   ]
  },
  {
   "cell_type": "markdown",
   "id": "c40a7eb4-0c3e-4eab-9291-5611cb68ce08",
   "metadata": {
    "tags": []
   },
   "source": [
    "# 2. Create Data Pipeline"
   ]
  },
  {
   "cell_type": "code",
   "execution_count": 23,
   "id": "7686355d-45aa-4c85-ad9c-053e6a9b4d81",
   "metadata": {
    "tags": []
   },
   "outputs": [],
   "source": [
    "from matplotlib import pyplot as plt"
   ]
  },
  {
   "cell_type": "code",
   "execution_count": 24,
   "id": "f066fea2-91b1-42ed-a67d-00566a1a53ff",
   "metadata": {
    "tags": []
   },
   "outputs": [],
   "source": [
    "data = tf.data.Dataset.list_files('C:/Users/Farzona/Youtube/Lipread/LipNet/data/s1/*.mpg')\n",
    "data = data.shuffle(500, reshuffle_each_iteration=False)\n",
    "data = data.map(mappable_function)\n",
    "data = data.padded_batch(2, padded_shapes=([75,None,None,None],[40]))\n",
    "data = data.prefetch(tf.data.AUTOTUNE)\n",
    "# Added for split \n",
    "train = data.take(450)\n",
    "test = data.skip(450)"
   ]
  },
  {
   "cell_type": "code",
   "execution_count": 25,
   "id": "8899004d-867a-4b3a-935b-580537b68953",
   "metadata": {},
   "outputs": [
    {
     "data": {
      "text/plain": [
       "(array([[[[[1.3056316 ],\n",
       "           [1.3056316 ],\n",
       "           [1.3056316 ],\n",
       "           ...,\n",
       "           [0.10880264],\n",
       "           [0.14507018],\n",
       "           [0.14507018]],\n",
       " \n",
       "          [[1.3056316 ],\n",
       "           [1.3056316 ],\n",
       "           [1.3056316 ],\n",
       "           ...,\n",
       "           [0.10880264],\n",
       "           [0.18133773],\n",
       "           [0.14507018]],\n",
       " \n",
       "          [[1.2693641 ],\n",
       "           [1.2693641 ],\n",
       "           [1.2693641 ],\n",
       "           ...,\n",
       "           [0.10880264],\n",
       "           [0.10880264],\n",
       "           [0.10880264]],\n",
       " \n",
       "          ...,\n",
       " \n",
       "          [[0.90668863],\n",
       "           [0.90668863],\n",
       "           [0.90668863],\n",
       "           ...,\n",
       "           [9.066887  ],\n",
       "           [8.958084  ],\n",
       "           [8.994351  ]],\n",
       " \n",
       "          [[0.90668863],\n",
       "           [0.90668863],\n",
       "           [0.90668863],\n",
       "           ...,\n",
       "           [8.994351  ],\n",
       "           [9.030619  ],\n",
       "           [8.7404785 ]],\n",
       " \n",
       "          [[0.90668863],\n",
       "           [0.90668863],\n",
       "           [0.90668863],\n",
       "           ...,\n",
       "           [8.849281  ],\n",
       "           [0.        ],\n",
       "           [8.885549  ]]],\n",
       " \n",
       " \n",
       "         [[[1.3056316 ],\n",
       "           [1.3056316 ],\n",
       "           [1.3056316 ],\n",
       "           ...,\n",
       "           [0.18133773],\n",
       "           [0.14507018],\n",
       "           [0.14507018]],\n",
       " \n",
       "          [[1.3056316 ],\n",
       "           [1.3056316 ],\n",
       "           [1.3056316 ],\n",
       "           ...,\n",
       "           [0.18133773],\n",
       "           [0.18133773],\n",
       "           [0.14507018]],\n",
       " \n",
       "          [[1.2330966 ],\n",
       "           [1.2330966 ],\n",
       "           [1.2330966 ],\n",
       "           ...,\n",
       "           [0.10880264],\n",
       "           [0.07253509],\n",
       "           [0.07253509]],\n",
       " \n",
       "          ...,\n",
       " \n",
       "          [[0.9429562 ],\n",
       "           [0.9429562 ],\n",
       "           [0.9429562 ],\n",
       "           ...,\n",
       "           [9.175689  ],\n",
       "           [8.921817  ],\n",
       "           [9.103154  ]],\n",
       " \n",
       "          [[0.90668863],\n",
       "           [0.90668863],\n",
       "           [0.90668863],\n",
       "           ...,\n",
       "           [9.066887  ],\n",
       "           [8.958084  ],\n",
       "           [8.776746  ]],\n",
       " \n",
       "          [[0.90668863],\n",
       "           [0.90668863],\n",
       "           [0.90668863],\n",
       "           ...,\n",
       "           [8.994351  ],\n",
       "           [0.03626755],\n",
       "           [8.849281  ]]],\n",
       " \n",
       " \n",
       "         [[[1.3056316 ],\n",
       "           [1.3056316 ],\n",
       "           [1.3056316 ],\n",
       "           ...,\n",
       "           [0.18133773],\n",
       "           [0.14507018],\n",
       "           [0.14507018]],\n",
       " \n",
       "          [[1.3056316 ],\n",
       "           [1.3056316 ],\n",
       "           [1.3056316 ],\n",
       "           ...,\n",
       "           [0.18133773],\n",
       "           [0.18133773],\n",
       "           [0.14507018]],\n",
       " \n",
       "          [[1.2693641 ],\n",
       "           [1.2693641 ],\n",
       "           [1.2693641 ],\n",
       "           ...,\n",
       "           [0.14507018],\n",
       "           [0.10880264],\n",
       "           [0.10880264]],\n",
       " \n",
       "          ...,\n",
       " \n",
       "          [[0.9429562 ],\n",
       "           [0.9429562 ],\n",
       "           [0.9429562 ],\n",
       "           ...,\n",
       "           [9.066887  ],\n",
       "           [8.849281  ],\n",
       "           [8.994351  ]],\n",
       " \n",
       "          [[0.90668863],\n",
       "           [0.90668863],\n",
       "           [0.90668863],\n",
       "           ...,\n",
       "           [9.030619  ],\n",
       "           [8.885549  ],\n",
       "           [8.776746  ]],\n",
       " \n",
       "          [[0.90668863],\n",
       "           [0.90668863],\n",
       "           [0.90668863],\n",
       "           ...,\n",
       "           [9.030619  ],\n",
       "           [0.03626755],\n",
       "           [8.813014  ]]],\n",
       " \n",
       " \n",
       "         ...,\n",
       " \n",
       " \n",
       "         [[[1.2693641 ],\n",
       "           [1.2693641 ],\n",
       "           [1.2330966 ],\n",
       "           ...,\n",
       "           [0.18133773],\n",
       "           [0.18133773],\n",
       "           [0.18133773]],\n",
       " \n",
       "          [[1.2693641 ],\n",
       "           [1.2693641 ],\n",
       "           [1.2330966 ],\n",
       "           ...,\n",
       "           [0.18133773],\n",
       "           [0.18133773],\n",
       "           [0.18133773]],\n",
       " \n",
       "          [[1.2330966 ],\n",
       "           [1.2330966 ],\n",
       "           [1.1968291 ],\n",
       "           ...,\n",
       "           [0.07253509],\n",
       "           [0.07253509],\n",
       "           [0.07253509]],\n",
       " \n",
       "          ...,\n",
       " \n",
       "          [[0.9429562 ],\n",
       "           [0.9429562 ],\n",
       "           [0.9429562 ],\n",
       "           ...,\n",
       "           [8.958084  ],\n",
       "           [9.103154  ],\n",
       "           [9.103154  ]],\n",
       " \n",
       "          [[0.9429562 ],\n",
       "           [0.9429562 ],\n",
       "           [0.9429562 ],\n",
       "           ...,\n",
       "           [8.776746  ],\n",
       "           [8.885549  ],\n",
       "           [8.921817  ]],\n",
       " \n",
       "          [[0.9429562 ],\n",
       "           [0.9429562 ],\n",
       "           [0.90668863],\n",
       "           ...,\n",
       "           [8.958084  ],\n",
       "           [8.849281  ],\n",
       "           [8.849281  ]]],\n",
       " \n",
       " \n",
       "         [[[1.2693641 ],\n",
       "           [1.2693641 ],\n",
       "           [1.2693641 ],\n",
       "           ...,\n",
       "           [0.18133773],\n",
       "           [0.18133773],\n",
       "           [0.18133773]],\n",
       " \n",
       "          [[1.2693641 ],\n",
       "           [1.2693641 ],\n",
       "           [1.2693641 ],\n",
       "           ...,\n",
       "           [0.18133773],\n",
       "           [0.18133773],\n",
       "           [0.18133773]],\n",
       " \n",
       "          [[1.2330966 ],\n",
       "           [1.2330966 ],\n",
       "           [1.2330966 ],\n",
       "           ...,\n",
       "           [0.10880264],\n",
       "           [0.10880264],\n",
       "           [0.10880264]],\n",
       " \n",
       "          ...,\n",
       " \n",
       "          [[0.90668863],\n",
       "           [0.90668863],\n",
       "           [0.90668863],\n",
       "           ...,\n",
       "           [8.958084  ],\n",
       "           [9.030619  ],\n",
       "           [9.030619  ]],\n",
       " \n",
       "          [[0.90668863],\n",
       "           [0.90668863],\n",
       "           [0.90668863],\n",
       "           ...,\n",
       "           [8.7404785 ],\n",
       "           [8.849281  ],\n",
       "           [8.921817  ]],\n",
       " \n",
       "          [[0.90668863],\n",
       "           [0.90668863],\n",
       "           [0.8704211 ],\n",
       "           ...,\n",
       "           [8.849281  ],\n",
       "           [8.776746  ],\n",
       "           [8.885549  ]]],\n",
       " \n",
       " \n",
       "         [[[1.2693641 ],\n",
       "           [1.2693641 ],\n",
       "           [1.2330966 ],\n",
       "           ...,\n",
       "           [0.18133773],\n",
       "           [0.21760528],\n",
       "           [0.21760528]],\n",
       " \n",
       "          [[1.2693641 ],\n",
       "           [1.2693641 ],\n",
       "           [1.2330966 ],\n",
       "           ...,\n",
       "           [0.18133773],\n",
       "           [0.21760528],\n",
       "           [0.21760528]],\n",
       " \n",
       "          [[1.2693641 ],\n",
       "           [1.2693641 ],\n",
       "           [1.2693641 ],\n",
       "           ...,\n",
       "           [0.10880264],\n",
       "           [0.07253509],\n",
       "           [0.07253509]],\n",
       " \n",
       "          ...,\n",
       " \n",
       "          [[0.9429562 ],\n",
       "           [0.90668863],\n",
       "           [0.90668863],\n",
       "           ...,\n",
       "           [9.030619  ],\n",
       "           [8.994351  ],\n",
       "           [9.030619  ]],\n",
       " \n",
       "          [[0.9429562 ],\n",
       "           [0.90668863],\n",
       "           [0.90668863],\n",
       "           ...,\n",
       "           [8.813014  ],\n",
       "           [8.813014  ],\n",
       "           [8.958084  ]],\n",
       " \n",
       "          [[0.9429562 ],\n",
       "           [0.90668863],\n",
       "           [0.90668863],\n",
       "           ...,\n",
       "           [8.776746  ],\n",
       "           [8.885549  ],\n",
       "           [8.921817  ]]]],\n",
       " \n",
       " \n",
       " \n",
       "        [[[[1.3301655 ],\n",
       "           [1.3301655 ],\n",
       "           [1.3301655 ],\n",
       "           ...,\n",
       "           [9.052515  ],\n",
       "           [9.3850565 ],\n",
       "           [9.422006  ]],\n",
       " \n",
       "          [[1.3301655 ],\n",
       "           [1.3301655 ],\n",
       "           [1.3301655 ],\n",
       "           ...,\n",
       "           [9.126413  ],\n",
       "           [0.11084713],\n",
       "           [9.422006  ]],\n",
       " \n",
       "          [[1.2932165 ],\n",
       "           [1.2932165 ],\n",
       "           [1.2932165 ],\n",
       "           ...,\n",
       "           [0.2586433 ],\n",
       "           [0.1847452 ],\n",
       "           [0.1847452 ]],\n",
       " \n",
       "          ...,\n",
       " \n",
       "          [[0.9237261 ],\n",
       "           [0.9237261 ],\n",
       "           [0.9237261 ],\n",
       "           ...,\n",
       "           [9.015567  ],\n",
       "           [9.089464  ],\n",
       "           [9.126413  ]],\n",
       " \n",
       "          [[0.88677704],\n",
       "           [0.88677704],\n",
       "           [0.88677704],\n",
       "           ...,\n",
       "           [8.9416685 ],\n",
       "           [8.978618  ],\n",
       "           [9.015567  ]],\n",
       " \n",
       "          [[0.88677704],\n",
       "           [0.88677704],\n",
       "           [0.88677704],\n",
       "           ...,\n",
       "           [9.052515  ],\n",
       "           [9.126413  ],\n",
       "           [9.015567  ]]],\n",
       " \n",
       " \n",
       "         [[[1.3301655 ],\n",
       "           [1.3301655 ],\n",
       "           [1.2932165 ],\n",
       "           ...,\n",
       "           [9.015567  ],\n",
       "           [9.422006  ],\n",
       "           [9.3850565 ]],\n",
       " \n",
       "          [[1.3301655 ],\n",
       "           [1.3301655 ],\n",
       "           [1.2932165 ],\n",
       "           ...,\n",
       "           [9.126413  ],\n",
       "           [0.14779617],\n",
       "           [0.        ]],\n",
       " \n",
       "          [[1.2562674 ],\n",
       "           [1.2562674 ],\n",
       "           [1.2562674 ],\n",
       "           ...,\n",
       "           [0.22169426],\n",
       "           [0.14779617],\n",
       "           [0.14779617]],\n",
       " \n",
       "          ...,\n",
       " \n",
       "          [[0.88677704],\n",
       "           [0.88677704],\n",
       "           [0.88677704],\n",
       "           ...,\n",
       "           [9.1633625 ],\n",
       "           [9.348108  ],\n",
       "           [9.348108  ]],\n",
       " \n",
       "          [[0.88677704],\n",
       "           [0.88677704],\n",
       "           [0.88677704],\n",
       "           ...,\n",
       "           [9.089464  ],\n",
       "           [9.311159  ],\n",
       "           [9.1633625 ]],\n",
       " \n",
       "          [[0.849828  ],\n",
       "           [0.849828  ],\n",
       "           [0.849828  ],\n",
       "           ...,\n",
       "           [9.311159  ],\n",
       "           [9.3850565 ],\n",
       "           [9.126413  ]]],\n",
       " \n",
       " \n",
       "         [[[1.3671145 ],\n",
       "           [1.3671145 ],\n",
       "           [1.3301655 ],\n",
       "           ...,\n",
       "           [9.015567  ],\n",
       "           [9.3850565 ],\n",
       "           [9.422006  ]],\n",
       " \n",
       "          [[1.3671145 ],\n",
       "           [1.3671145 ],\n",
       "           [1.3301655 ],\n",
       "           ...,\n",
       "           [9.126413  ],\n",
       "           [0.03694904],\n",
       "           [9.3850565 ]],\n",
       " \n",
       "          [[1.2193184 ],\n",
       "           [1.2193184 ],\n",
       "           [1.2193184 ],\n",
       "           ...,\n",
       "           [0.1847452 ],\n",
       "           [0.11084713],\n",
       "           [0.11084713]],\n",
       " \n",
       "          ...,\n",
       " \n",
       "          [[0.88677704],\n",
       "           [0.849828  ],\n",
       "           [0.849828  ],\n",
       "           ...,\n",
       "           [9.052515  ],\n",
       "           [9.27421   ],\n",
       "           [9.348108  ]],\n",
       " \n",
       "          [[0.9237261 ],\n",
       "           [0.88677704],\n",
       "           [0.88677704],\n",
       "           ...,\n",
       "           [9.015567  ],\n",
       "           [9.27421   ],\n",
       "           [9.1633625 ]],\n",
       " \n",
       "          [[0.88677704],\n",
       "           [0.849828  ],\n",
       "           [0.849828  ],\n",
       "           ...,\n",
       "           [9.311159  ],\n",
       "           [9.3850565 ],\n",
       "           [9.1633625 ]]],\n",
       " \n",
       " \n",
       "         ...,\n",
       " \n",
       " \n",
       "         [[[1.3301655 ],\n",
       "           [1.3301655 ],\n",
       "           [1.3301655 ],\n",
       "           ...,\n",
       "           [9.052515  ],\n",
       "           [9.348108  ],\n",
       "           [9.3850565 ]],\n",
       " \n",
       "          [[1.3301655 ],\n",
       "           [1.3301655 ],\n",
       "           [1.3301655 ],\n",
       "           ...,\n",
       "           [9.015567  ],\n",
       "           [0.03694904],\n",
       "           [9.3850565 ]],\n",
       " \n",
       "          [[1.2932165 ],\n",
       "           [1.2932165 ],\n",
       "           [1.2932165 ],\n",
       "           ...,\n",
       "           [0.14779617],\n",
       "           [0.1847452 ],\n",
       "           [0.1847452 ]],\n",
       " \n",
       "          ...,\n",
       " \n",
       "          [[0.9606751 ],\n",
       "           [0.9237261 ],\n",
       "           [0.9237261 ],\n",
       "           ...,\n",
       "           [9.126413  ],\n",
       "           [9.200312  ],\n",
       "           [9.348108  ]],\n",
       " \n",
       "          [[0.9237261 ],\n",
       "           [0.9237261 ],\n",
       "           [0.9237261 ],\n",
       "           ...,\n",
       "           [8.86777   ],\n",
       "           [9.052515  ],\n",
       "           [9.200312  ]],\n",
       " \n",
       "          [[0.9237261 ],\n",
       "           [0.9237261 ],\n",
       "           [0.9237261 ],\n",
       "           ...,\n",
       "           [9.015567  ],\n",
       "           [9.089464  ],\n",
       "           [9.126413  ]]],\n",
       " \n",
       " \n",
       "         [[[1.3301655 ],\n",
       "           [1.3301655 ],\n",
       "           [1.3301655 ],\n",
       "           ...,\n",
       "           [9.089464  ],\n",
       "           [9.3850565 ],\n",
       "           [9.422006  ]],\n",
       " \n",
       "          [[1.3301655 ],\n",
       "           [1.3301655 ],\n",
       "           [1.3301655 ],\n",
       "           ...,\n",
       "           [9.052515  ],\n",
       "           [0.11084713],\n",
       "           [9.422006  ]],\n",
       " \n",
       "          [[1.2932165 ],\n",
       "           [1.2932165 ],\n",
       "           [1.2932165 ],\n",
       "           ...,\n",
       "           [0.03694904],\n",
       "           [0.14779617],\n",
       "           [0.11084713]],\n",
       " \n",
       "          ...,\n",
       " \n",
       "          [[0.9237261 ],\n",
       "           [0.88677704],\n",
       "           [0.88677704],\n",
       "           ...,\n",
       "           [9.200312  ],\n",
       "           [9.311159  ],\n",
       "           [9.311159  ]],\n",
       " \n",
       "          [[0.88677704],\n",
       "           [0.88677704],\n",
       "           [0.88677704],\n",
       "           ...,\n",
       "           [8.904719  ],\n",
       "           [9.237261  ],\n",
       "           [9.200312  ]],\n",
       " \n",
       "          [[0.88677704],\n",
       "           [0.88677704],\n",
       "           [0.88677704],\n",
       "           ...,\n",
       "           [8.9416685 ],\n",
       "           [9.200312  ],\n",
       "           [9.237261  ]]],\n",
       " \n",
       " \n",
       "         [[[1.4040636 ],\n",
       "           [1.4040636 ],\n",
       "           [1.2932165 ],\n",
       "           ...,\n",
       "           [9.089464  ],\n",
       "           [9.422006  ],\n",
       "           [9.348108  ]],\n",
       " \n",
       "          [[1.3671145 ],\n",
       "           [1.3671145 ],\n",
       "           [1.2932165 ],\n",
       "           ...,\n",
       "           [9.089464  ],\n",
       "           [0.07389808],\n",
       "           [9.422006  ]],\n",
       " \n",
       "          [[1.3301655 ],\n",
       "           [1.3301655 ],\n",
       "           [1.2932165 ],\n",
       "           ...,\n",
       "           [0.11084713],\n",
       "           [0.2586433 ],\n",
       "           [0.1847452 ]],\n",
       " \n",
       "          ...,\n",
       " \n",
       "          [[0.9237261 ],\n",
       "           [0.9606751 ],\n",
       "           [0.9237261 ],\n",
       "           ...,\n",
       "           [9.1633625 ],\n",
       "           [9.311159  ],\n",
       "           [9.311159  ]],\n",
       " \n",
       "          [[0.9237261 ],\n",
       "           [0.9606751 ],\n",
       "           [0.88677704],\n",
       "           ...,\n",
       "           [8.904719  ],\n",
       "           [9.200312  ],\n",
       "           [9.200312  ]],\n",
       " \n",
       "          [[0.9237261 ],\n",
       "           [0.9237261 ],\n",
       "           [0.88677704],\n",
       "           ...,\n",
       "           [8.978618  ],\n",
       "           [9.1633625 ],\n",
       "           [9.237261  ]]]]], dtype=float32),\n",
       " array([[12,  1, 25, 39,  2, 12, 21,  5, 39, 23,  9, 20,  8, 39, 18, 39,\n",
       "          6,  9, 22,  5, 39,  1,  7,  1,  9, 14,  0,  0,  0,  0,  0,  0,\n",
       "          0,  0,  0,  0,  0,  0,  0,  0],\n",
       "        [12,  1, 25, 39,  7, 18,  5,  5, 14, 39,  2, 25, 39,  6, 39, 14,\n",
       "          9, 14,  5, 39, 19, 15, 15, 14,  0,  0,  0,  0,  0,  0,  0,  0,\n",
       "          0,  0,  0,  0,  0,  0,  0,  0]], dtype=int64))"
      ]
     },
     "execution_count": 25,
     "metadata": {},
     "output_type": "execute_result"
    }
   ],
   "source": [
    "data.as_numpy_iterator().next()"
   ]
  },
  {
   "cell_type": "code",
   "execution_count": 26,
   "id": "9d03ab1f-8dc9-4fb7-88f0-906f613c5b8c",
   "metadata": {},
   "outputs": [
    {
     "data": {
      "text/plain": [
       "<matplotlib.image.AxesImage at 0x133afd0e2d0>"
      ]
     },
     "execution_count": 26,
     "metadata": {},
     "output_type": "execute_result"
    },
    {
     "data": {
      "image/png": "[encoded data removed]",
      "text/plain": [
       "<Figure size 640x480 with 1 Axes>"
      ]
     },
     "metadata": {},
     "output_type": "display_data"
    }
   ],
   "source": [
    "plt.imshow(frames[0])"
   ]
  },
  {
   "cell_type": "code",
   "execution_count": 27,
   "id": "6b1365bd-7742-41d1-95d4-247021751c3a",
   "metadata": {},
   "outputs": [
    {
     "data": {
      "text/plain": [
       "50"
      ]
     },
     "execution_count": 27,
     "metadata": {},
     "output_type": "execute_result"
    }
   ],
   "source": [
    "len(test)"
   ]
  },
  {
   "cell_type": "code",
   "execution_count": 28,
   "id": "5281bde8-fdc8-4da1-bd55-5a7929a9e80c",
   "metadata": {},
   "outputs": [],
   "source": [
    "frames, alignments = data.as_numpy_iterator().next()"
   ]
  },
  {
   "cell_type": "code",
   "execution_count": 29,
   "id": "cbebe683-6afd-47fd-bba4-c83b4b13bb32",
   "metadata": {},
   "outputs": [
    {
     "data": {
      "text/plain": [
       "2"
      ]
     },
     "execution_count": 29,
     "metadata": {},
     "output_type": "execute_result"
    }
   ],
   "source": [
    "len(frames)"
   ]
  },
  {
   "cell_type": "code",
   "execution_count": 30,
   "id": "5cf2d676-93a9-434c-b3c7-bdcc2577b2e7",
   "metadata": {
    "tags": []
   },
   "outputs": [],
   "source": [
    "sample = data.as_numpy_iterator()"
   ]
  },
  {
   "cell_type": "code",
   "execution_count": 31,
   "id": "efa6cd46-7079-46c0-b45b-832f339f6cb0",
   "metadata": {
    "scrolled": true,
    "tags": []
   },
   "outputs": [
    {
     "data": {
      "text/plain": [
       "array([[[[[1.444561  ],\n",
       "          [1.444561  ],\n",
       "          [1.444561  ],\n",
       "          ...,\n",
       "          [9.57972   ],\n",
       "          [0.26610333],\n",
       "          [0.3041181 ]],\n",
       "\n",
       "         [[1.444561  ],\n",
       "          [1.444561  ],\n",
       "          [1.444561  ],\n",
       "          ...,\n",
       "          [9.57972   ],\n",
       "          [0.26610333],\n",
       "          [0.26610333]],\n",
       "\n",
       "         [[1.3305167 ],\n",
       "          [1.3305167 ],\n",
       "          [1.4065462 ],\n",
       "          ...,\n",
       "          [0.22808857],\n",
       "          [0.34213287],\n",
       "          [0.34213287]],\n",
       "\n",
       "         ...,\n",
       "\n",
       "         [[0.95036906],\n",
       "          [0.95036906],\n",
       "          [0.95036906],\n",
       "          ...,\n",
       "          [0.        ],\n",
       "          [0.        ],\n",
       "          [0.        ]],\n",
       "\n",
       "         [[0.95036906],\n",
       "          [0.95036906],\n",
       "          [0.95036906],\n",
       "          ...,\n",
       "          [9.693765  ],\n",
       "          [9.693765  ],\n",
       "          [9.693765  ]],\n",
       "\n",
       "         [[0.95036906],\n",
       "          [0.95036906],\n",
       "          [0.95036906],\n",
       "          ...,\n",
       "          [9.693765  ],\n",
       "          [9.693765  ],\n",
       "          [9.693765  ]]],\n",
       "\n",
       "\n",
       "        [[[1.4825757 ],\n",
       "          [1.4825757 ],\n",
       "          [1.4065462 ],\n",
       "          ...,\n",
       "          [0.07602952],\n",
       "          [0.34213287],\n",
       "          [0.3041181 ]],\n",
       "\n",
       "         [[1.4825757 ],\n",
       "          [1.4825757 ],\n",
       "          [1.4065462 ],\n",
       "          ...,\n",
       "          [0.03801476],\n",
       "          [0.34213287],\n",
       "          [0.11404429]],\n",
       "\n",
       "         [[1.3685315 ],\n",
       "          [1.3685315 ],\n",
       "          [1.3685315 ],\n",
       "          ...,\n",
       "          [0.15205905],\n",
       "          [0.22808857],\n",
       "          [0.22808857]],\n",
       "\n",
       "         ...,\n",
       "\n",
       "         [[0.95036906],\n",
       "          [0.95036906],\n",
       "          [0.95036906],\n",
       "          ...,\n",
       "          [0.        ],\n",
       "          [0.        ],\n",
       "          [0.        ]],\n",
       "\n",
       "         [[0.95036906],\n",
       "          [0.95036906],\n",
       "          [0.95036906],\n",
       "          ...,\n",
       "          [9.693765  ],\n",
       "          [9.693765  ],\n",
       "          [9.693765  ]],\n",
       "\n",
       "         [[0.95036906],\n",
       "          [0.95036906],\n",
       "          [0.95036906],\n",
       "          ...,\n",
       "          [9.693765  ],\n",
       "          [9.693765  ],\n",
       "          [9.693765  ]]],\n",
       "\n",
       "\n",
       "        [[[1.444561  ],\n",
       "          [1.444561  ],\n",
       "          [1.3685315 ],\n",
       "          ...,\n",
       "          [0.07602952],\n",
       "          [0.3801476 ],\n",
       "          [0.34213287]],\n",
       "\n",
       "         [[1.444561  ],\n",
       "          [1.444561  ],\n",
       "          [1.3685315 ],\n",
       "          ...,\n",
       "          [0.07602952],\n",
       "          [0.3041181 ],\n",
       "          [0.26610333]],\n",
       "\n",
       "         [[1.3685315 ],\n",
       "          [1.3685315 ],\n",
       "          [1.3685315 ],\n",
       "          ...,\n",
       "          [0.15205905],\n",
       "          [0.1900738 ],\n",
       "          [0.1900738 ]],\n",
       "\n",
       "         ...,\n",
       "\n",
       "         [[0.95036906],\n",
       "          [0.95036906],\n",
       "          [0.95036906],\n",
       "          ...,\n",
       "          [0.        ],\n",
       "          [0.        ],\n",
       "          [0.        ]],\n",
       "\n",
       "         [[0.95036906],\n",
       "          [0.95036906],\n",
       "          [0.95036906],\n",
       "          ...,\n",
       "          [9.655749  ],\n",
       "          [9.693765  ],\n",
       "          [9.693765  ]],\n",
       "\n",
       "         [[0.95036906],\n",
       "          [0.95036906],\n",
       "          [0.95036906],\n",
       "          ...,\n",
       "          [9.655749  ],\n",
       "          [9.693765  ],\n",
       "          [9.693765  ]]],\n",
       "\n",
       "\n",
       "        ...,\n",
       "\n",
       "\n",
       "        [[[1.444561  ],\n",
       "          [1.444561  ],\n",
       "          [1.444561  ],\n",
       "          ...,\n",
       "          [9.541705  ],\n",
       "          [0.3041181 ],\n",
       "          [0.1900738 ]],\n",
       "\n",
       "         [[1.4065462 ],\n",
       "          [1.4065462 ],\n",
       "          [1.4065462 ],\n",
       "          ...,\n",
       "          [9.541705  ],\n",
       "          [0.22808857],\n",
       "          [0.26610333]],\n",
       "\n",
       "         [[1.3685315 ],\n",
       "          [1.3685315 ],\n",
       "          [1.3685315 ],\n",
       "          ...,\n",
       "          [0.11404429],\n",
       "          [0.26610333],\n",
       "          [0.22808857]],\n",
       "\n",
       "         ...,\n",
       "\n",
       "         [[0.9123543 ],\n",
       "          [0.9123543 ],\n",
       "          [0.9123543 ],\n",
       "          ...,\n",
       "          [9.693765  ],\n",
       "          [9.693765  ],\n",
       "          [9.693765  ]],\n",
       "\n",
       "         [[0.9123543 ],\n",
       "          [0.9123543 ],\n",
       "          [0.9123543 ],\n",
       "          ...,\n",
       "          [9.693765  ],\n",
       "          [9.693765  ],\n",
       "          [9.693765  ]],\n",
       "\n",
       "         [[0.9123543 ],\n",
       "          [0.9123543 ],\n",
       "          [0.9123543 ],\n",
       "          ...,\n",
       "          [9.693765  ],\n",
       "          [9.693765  ],\n",
       "          [9.655749  ]]],\n",
       "\n",
       "\n",
       "        [[[1.444561  ],\n",
       "          [1.444561  ],\n",
       "          [1.4065462 ],\n",
       "          ...,\n",
       "          [9.541705  ],\n",
       "          [0.3041181 ],\n",
       "          [0.1900738 ]],\n",
       "\n",
       "         [[1.3685315 ],\n",
       "          [1.3685315 ],\n",
       "          [1.3305167 ],\n",
       "          ...,\n",
       "          [9.503691  ],\n",
       "          [0.1900738 ],\n",
       "          [0.22808857]],\n",
       "\n",
       "         [[1.3305167 ],\n",
       "          [1.3305167 ],\n",
       "          [1.3305167 ],\n",
       "          ...,\n",
       "          [0.11404429],\n",
       "          [0.26610333],\n",
       "          [0.22808857]],\n",
       "\n",
       "         ...,\n",
       "\n",
       "         [[0.9123543 ],\n",
       "          [0.9123543 ],\n",
       "          [0.9123543 ],\n",
       "          ...,\n",
       "          [9.693765  ],\n",
       "          [9.693765  ],\n",
       "          [9.693765  ]],\n",
       "\n",
       "         [[0.9123543 ],\n",
       "          [0.9123543 ],\n",
       "          [0.9123543 ],\n",
       "          ...,\n",
       "          [9.693765  ],\n",
       "          [9.693765  ],\n",
       "          [9.693765  ]],\n",
       "\n",
       "         [[0.9123543 ],\n",
       "          [0.9123543 ],\n",
       "          [0.9123543 ],\n",
       "          ...,\n",
       "          [9.693765  ],\n",
       "          [9.693765  ],\n",
       "          [9.655749  ]]],\n",
       "\n",
       "\n",
       "        [[[1.4825757 ],\n",
       "          [1.4825757 ],\n",
       "          [1.444561  ],\n",
       "          ...,\n",
       "          [9.541705  ],\n",
       "          [0.3041181 ],\n",
       "          [0.22808857]],\n",
       "\n",
       "         [[1.444561  ],\n",
       "          [1.444561  ],\n",
       "          [1.4065462 ],\n",
       "          ...,\n",
       "          [9.503691  ],\n",
       "          [0.22808857],\n",
       "          [0.11404429]],\n",
       "\n",
       "         [[1.3685315 ],\n",
       "          [1.3685315 ],\n",
       "          [1.3305167 ],\n",
       "          ...,\n",
       "          [0.11404429],\n",
       "          [0.26610333],\n",
       "          [0.22808857]],\n",
       "\n",
       "         ...,\n",
       "\n",
       "         [[0.95036906],\n",
       "          [0.95036906],\n",
       "          [0.95036906],\n",
       "          ...,\n",
       "          [0.03801476],\n",
       "          [0.        ],\n",
       "          [0.        ]],\n",
       "\n",
       "         [[0.95036906],\n",
       "          [0.95036906],\n",
       "          [0.95036906],\n",
       "          ...,\n",
       "          [0.        ],\n",
       "          [0.        ],\n",
       "          [0.        ]],\n",
       "\n",
       "         [[0.9883838 ],\n",
       "          [0.95036906],\n",
       "          [0.95036906],\n",
       "          ...,\n",
       "          [0.        ],\n",
       "          [0.        ],\n",
       "          [9.693765  ]]]],\n",
       "\n",
       "\n",
       "\n",
       "       [[[[1.6316289 ],\n",
       "          [1.593684  ],\n",
       "          [1.5177943 ],\n",
       "          ...,\n",
       "          [0.265614  ],\n",
       "          [0.265614  ],\n",
       "          [0.265614  ]],\n",
       "\n",
       "         [[1.6695737 ],\n",
       "          [1.593684  ],\n",
       "          [1.5177943 ],\n",
       "          ...,\n",
       "          [0.265614  ],\n",
       "          [0.265614  ],\n",
       "          [0.265614  ]],\n",
       "\n",
       "         [[1.5177943 ],\n",
       "          [1.5177943 ],\n",
       "          [1.4798495 ],\n",
       "          ...,\n",
       "          [0.3415037 ],\n",
       "          [0.30355886],\n",
       "          [0.30355886]],\n",
       "\n",
       "         ...,\n",
       "\n",
       "         [[1.062456  ],\n",
       "          [1.062456  ],\n",
       "          [1.062456  ],\n",
       "          ...,\n",
       "          [0.03794486],\n",
       "          [0.03794486],\n",
       "          [0.03794486]],\n",
       "\n",
       "         [[1.0245111 ],\n",
       "          [1.0245111 ],\n",
       "          [1.0245111 ],\n",
       "          ...,\n",
       "          [0.03794486],\n",
       "          [0.03794486],\n",
       "          [0.03794486]],\n",
       "\n",
       "         [[1.0245111 ],\n",
       "          [1.0245111 ],\n",
       "          [1.0245111 ],\n",
       "          ...,\n",
       "          [0.03794486],\n",
       "          [0.03794486],\n",
       "          [0.        ]]],\n",
       "\n",
       "\n",
       "        [[[1.5177943 ],\n",
       "          [1.5177943 ],\n",
       "          [1.4798495 ],\n",
       "          ...,\n",
       "          [0.30355886],\n",
       "          [0.22766915],\n",
       "          [0.22766915]],\n",
       "\n",
       "         [[1.593684  ],\n",
       "          [1.3660148 ],\n",
       "          [1.4419045 ],\n",
       "          ...,\n",
       "          [0.30355886],\n",
       "          [0.22766915],\n",
       "          [0.22766915]],\n",
       "\n",
       "         [[1.5177943 ],\n",
       "          [1.5177943 ],\n",
       "          [1.4419045 ],\n",
       "          ...,\n",
       "          [0.30355886],\n",
       "          [0.22766915],\n",
       "          [0.22766915]],\n",
       "\n",
       "         ...,\n",
       "\n",
       "         [[1.062456  ],\n",
       "          [1.062456  ],\n",
       "          [1.0245111 ],\n",
       "          ...,\n",
       "          [0.03794486],\n",
       "          [0.03794486],\n",
       "          [0.03794486]],\n",
       "\n",
       "         [[1.0245111 ],\n",
       "          [1.0245111 ],\n",
       "          [0.9865663 ],\n",
       "          ...,\n",
       "          [0.03794486],\n",
       "          [0.03794486],\n",
       "          [0.        ]],\n",
       "\n",
       "         [[1.0245111 ],\n",
       "          [1.0245111 ],\n",
       "          [0.9865663 ],\n",
       "          ...,\n",
       "          [0.03794486],\n",
       "          [0.        ],\n",
       "          [0.        ]]],\n",
       "\n",
       "\n",
       "        [[[1.4798495 ],\n",
       "          [1.6316289 ],\n",
       "          [1.4419045 ],\n",
       "          ...,\n",
       "          [0.30355886],\n",
       "          [0.22766915],\n",
       "          [0.22766915]],\n",
       "\n",
       "         [[1.6316289 ],\n",
       "          [1.4039598 ],\n",
       "          [1.4798495 ],\n",
       "          ...,\n",
       "          [0.30355886],\n",
       "          [0.22766915],\n",
       "          [0.22766915]],\n",
       "\n",
       "         [[1.5557392 ],\n",
       "          [1.5557392 ],\n",
       "          [1.4798495 ],\n",
       "          ...,\n",
       "          [0.30355886],\n",
       "          [0.22766915],\n",
       "          [0.22766915]],\n",
       "\n",
       "         ...,\n",
       "\n",
       "         [[1.1004008 ],\n",
       "          [1.1004008 ],\n",
       "          [1.062456  ],\n",
       "          ...,\n",
       "          [0.03794486],\n",
       "          [0.03794486],\n",
       "          [0.03794486]],\n",
       "\n",
       "         [[1.062456  ],\n",
       "          [1.062456  ],\n",
       "          [1.0245111 ],\n",
       "          ...,\n",
       "          [0.03794486],\n",
       "          [0.03794486],\n",
       "          [0.03794486]],\n",
       "\n",
       "         [[1.062456  ],\n",
       "          [1.062456  ],\n",
       "          [1.0245111 ],\n",
       "          ...,\n",
       "          [0.03794486],\n",
       "          [0.03794486],\n",
       "          [0.        ]]],\n",
       "\n",
       "\n",
       "        ...,\n",
       "\n",
       "\n",
       "        [[[1.5557392 ],\n",
       "          [1.4798495 ],\n",
       "          [1.32807   ],\n",
       "          ...,\n",
       "          [0.22766915],\n",
       "          [0.22766915],\n",
       "          [0.22766915]],\n",
       "\n",
       "         [[1.4039598 ],\n",
       "          [1.5557392 ],\n",
       "          [1.32807   ],\n",
       "          ...,\n",
       "          [0.22766915],\n",
       "          [0.22766915],\n",
       "          [0.22766915]],\n",
       "\n",
       "         [[1.5177943 ],\n",
       "          [1.5177943 ],\n",
       "          [1.4039598 ],\n",
       "          ...,\n",
       "          [0.30355886],\n",
       "          [0.30355886],\n",
       "          [0.22766915]],\n",
       "\n",
       "         ...,\n",
       "\n",
       "         [[1.0245111 ],\n",
       "          [1.0245111 ],\n",
       "          [1.0245111 ],\n",
       "          ...,\n",
       "          [0.        ],\n",
       "          [0.        ],\n",
       "          [0.        ]],\n",
       "\n",
       "         [[1.0245111 ],\n",
       "          [1.0245111 ],\n",
       "          [1.0245111 ],\n",
       "          ...,\n",
       "          [0.        ],\n",
       "          [0.        ],\n",
       "          [0.        ]],\n",
       "\n",
       "         [[1.0245111 ],\n",
       "          [1.0245111 ],\n",
       "          [1.0245111 ],\n",
       "          ...,\n",
       "          [0.        ],\n",
       "          [0.        ],\n",
       "          [0.        ]]],\n",
       "\n",
       "\n",
       "        [[[1.5177943 ],\n",
       "          [1.4798495 ],\n",
       "          [1.3660148 ],\n",
       "          ...,\n",
       "          [0.30355886],\n",
       "          [0.265614  ],\n",
       "          [0.265614  ]],\n",
       "\n",
       "         [[1.4039598 ],\n",
       "          [1.5557392 ],\n",
       "          [1.4798495 ],\n",
       "          ...,\n",
       "          [0.30355886],\n",
       "          [0.265614  ],\n",
       "          [0.265614  ]],\n",
       "\n",
       "         [[1.5177943 ],\n",
       "          [1.5177943 ],\n",
       "          [1.4039598 ],\n",
       "          ...,\n",
       "          [0.3415037 ],\n",
       "          [0.3415037 ],\n",
       "          [0.3415037 ]],\n",
       "\n",
       "         ...,\n",
       "\n",
       "         [[1.0245111 ],\n",
       "          [1.0245111 ],\n",
       "          [1.0245111 ],\n",
       "          ...,\n",
       "          [0.03794486],\n",
       "          [0.03794486],\n",
       "          [0.        ]],\n",
       "\n",
       "         [[1.0245111 ],\n",
       "          [1.0245111 ],\n",
       "          [1.0245111 ],\n",
       "          ...,\n",
       "          [0.03794486],\n",
       "          [0.        ],\n",
       "          [0.        ]],\n",
       "\n",
       "         [[1.0245111 ],\n",
       "          [1.0245111 ],\n",
       "          [1.0245111 ],\n",
       "          ...,\n",
       "          [0.        ],\n",
       "          [0.        ],\n",
       "          [0.        ]]],\n",
       "\n",
       "\n",
       "        [[[1.4419045 ],\n",
       "          [1.5177943 ],\n",
       "          [1.32807   ],\n",
       "          ...,\n",
       "          [0.37944856],\n",
       "          [0.3415037 ],\n",
       "          [0.3415037 ]],\n",
       "\n",
       "         [[1.4039598 ],\n",
       "          [1.4419045 ],\n",
       "          [1.4798495 ],\n",
       "          ...,\n",
       "          [0.37944856],\n",
       "          [0.3415037 ],\n",
       "          [0.3415037 ]],\n",
       "\n",
       "         [[1.4798495 ],\n",
       "          [1.4798495 ],\n",
       "          [1.4039598 ],\n",
       "          ...,\n",
       "          [0.30355886],\n",
       "          [0.265614  ],\n",
       "          [0.265614  ]],\n",
       "\n",
       "         ...,\n",
       "\n",
       "         [[1.062456  ],\n",
       "          [1.062456  ],\n",
       "          [1.062456  ],\n",
       "          ...,\n",
       "          [0.03794486],\n",
       "          [0.03794486],\n",
       "          [0.03794486]],\n",
       "\n",
       "         [[1.062456  ],\n",
       "          [1.062456  ],\n",
       "          [1.0245111 ],\n",
       "          ...,\n",
       "          [0.        ],\n",
       "          [0.03794486],\n",
       "          [0.        ]],\n",
       "\n",
       "         [[1.0245111 ],\n",
       "          [1.0245111 ],\n",
       "          [1.0245111 ],\n",
       "          ...,\n",
       "          [0.        ],\n",
       "          [0.        ],\n",
       "          [0.        ]]]]], dtype=float32)"
      ]
     },
     "execution_count": 31,
     "metadata": {},
     "output_type": "execute_result"
    }
   ],
   "source": [
    "val = sample.next(); val[0]"
   ]
  },
  {
   "cell_type": "code",
   "execution_count": 32,
   "id": "f6c2f1e4-40ad-48ef-8dac-b74ac61be7f4",
   "metadata": {},
   "outputs": [],
   "source": [
    "fv = (val[0][1].astype(np.uint8) * 255).squeeze()\n",
    "imageio.mimsave('./animation.gif', fv, duration=100)"
   ]
  },
  {
   "cell_type": "code",
   "execution_count": 33,
   "id": "c33a87a2-d5e0-4ec9-b174-73ebf41bf03a",
   "metadata": {
    "tags": []
   },
   "outputs": [
    {
     "data": {
      "text/plain": [
       "<matplotlib.image.AxesImage at 0x133b46d1890>"
      ]
     },
     "execution_count": 33,
     "metadata": {},
     "output_type": "execute_result"
    },
    {
     "data": {
      "image/png": "[encoded data removed]",
      "text/plain": [
       "<Figure size 640x480 with 1 Axes>"
      ]
     },
     "metadata": {},
     "output_type": "display_data"
    }
   ],
   "source": [
    "# 0:videos, 0: 1st video out of the batch,  0: return the first frame in the video \n",
    "plt.imshow(val[0][0][35])"
   ]
  },
  {
   "cell_type": "code",
   "execution_count": 34,
   "id": "84593332-133c-4205-b7a6-8e235d5e2b3b",
   "metadata": {
    "tags": []
   },
   "outputs": [
    {
     "data": {
      "text/plain": [
       "<tf.Tensor: shape=(), dtype=string, numpy=b'lay red at e four please'>"
      ]
     },
     "execution_count": 34,
     "metadata": {},
     "output_type": "execute_result"
    }
   ],
   "source": [
    "tf.strings.reduce_join([num_to_char(word) for word in val[1][0]])"
   ]
  },
  {
   "cell_type": "markdown",
   "id": "0f47733c-83bc-465c-b118-b198b492ad37",
   "metadata": {
    "tags": []
   },
   "source": [
    "# 3. Design the Deep Neural Network"
   ]
  },
  {
   "cell_type": "code",
   "execution_count": 35,
   "id": "d8e9a497-191b-4842-afbd-26f5e13c43ba",
   "metadata": {
    "tags": []
   },
   "outputs": [],
   "source": [
    "from tensorflow.keras.models import Sequential \n",
    "from tensorflow.keras.layers import Conv3D, LSTM, Dense, Dropout, Bidirectional, MaxPool3D, Activation, Reshape, SpatialDropout3D, BatchNormalization, TimeDistributed, Flatten\n",
    "#from tensorflow.keras.optimizers import Adam\n",
    "from tensorflow.keras.callbacks import ModelCheckpoint, LearningRateScheduler"
   ]
  },
  {
   "cell_type": "code",
   "execution_count": 36,
   "id": "3f753ed2-70b9-4236-8c1c-08ca065dc8bf",
   "metadata": {},
   "outputs": [
    {
     "data": {
      "text/plain": [
       "(75, 46, 140, 1)"
      ]
     },
     "execution_count": 36,
     "metadata": {},
     "output_type": "execute_result"
    }
   ],
   "source": [
    "data.as_numpy_iterator().next()[0][0].shape"
   ]
  },
  {
   "cell_type": "code",
   "execution_count": 37,
   "id": "f9171056-a352-491a-9ed9-92b28ced268e",
   "metadata": {
    "tags": []
   },
   "outputs": [],
   "source": [
    "model = Sequential()\n",
    "model.add(Conv3D(128, 3, input_shape=(75,46,140,1), padding='same'))\n",
    "model.add(Activation('relu'))\n",
    "model.add(MaxPool3D((1,2,2)))\n",
    "\n",
    "model.add(Conv3D(256, 3, padding='same'))\n",
    "model.add(Activation('relu'))\n",
    "model.add(MaxPool3D((1,2,2)))\n",
    "\n",
    "model.add(Conv3D(75, 3, padding='same'))\n",
    "model.add(Activation('relu'))\n",
    "model.add(MaxPool3D((1,2,2)))\n",
    "\n",
    "model.add(TimeDistributed(Flatten()))\n",
    "\n",
    "model.add(Bidirectional(LSTM(128, kernel_initializer='Orthogonal', return_sequences=True)))\n",
    "model.add(Dropout(.5))\n",
    "\n",
    "model.add(Bidirectional(LSTM(128, kernel_initializer='Orthogonal', return_sequences=True)))\n",
    "model.add(Dropout(.5))\n",
    "\n",
    "model.add(Dense(char_to_num.vocabulary_size()+1, kernel_initializer='he_normal', activation='softmax'))"
   ]
  },
  {
   "cell_type": "code",
   "execution_count": 38,
   "id": "78851825-2bcd-42a9-b7f2-28bb5a6bf43a",
   "metadata": {
    "tags": []
   },
   "outputs": [
    {
     "name": "stdout",
     "output_type": "stream",
     "text": [
      "Model: \"sequential\"\n",
      "_________________________________________________________________\n",
      " Layer (type)                Output Shape              Param #   \n",
      "=================================================================\n",
      " conv3d (Conv3D)             (None, 75, 46, 140, 128   3584      \n",
      "                             )                                   \n",
      "                                                                 \n",
      " activation (Activation)     (None, 75, 46, 140, 128   0         \n",
      "                             )                                   \n",
      "                                                                 \n",
      " max_pooling3d (MaxPooling3  (None, 75, 23, 70, 128)   0         \n",
      " D)                                                              \n",
      "                                                                 \n",
      " conv3d_1 (Conv3D)           (None, 75, 23, 70, 256)   884992    \n",
      "                                                                 \n",
      " activation_1 (Activation)   (None, 75, 23, 70, 256)   0         \n",
      "                                                                 \n",
      " max_pooling3d_1 (MaxPoolin  (None, 75, 11, 35, 256)   0         \n",
      " g3D)                                                            \n",
      "                                                                 \n",
      " conv3d_2 (Conv3D)           (None, 75, 11, 35, 75)    518475    \n",
      "                                                                 \n",
      " activation_2 (Activation)   (None, 75, 11, 35, 75)    0         \n",
      "                                                                 \n",
      " max_pooling3d_2 (MaxPoolin  (None, 75, 5, 17, 75)     0         \n",
      " g3D)                                                            \n",
      "                                                                 \n",
      " time_distributed (TimeDist  (None, 75, 6375)          0         \n",
      " ributed)                                                        \n",
      "                                                                 \n",
      " bidirectional (Bidirection  (None, 75, 256)           6660096   \n",
      " al)                                                             \n",
      "                                                                 \n",
      " dropout (Dropout)           (None, 75, 256)           0         \n",
      "                                                                 \n",
      " bidirectional_1 (Bidirecti  (None, 75, 256)           394240    \n",
      " onal)                                                           \n",
      "                                                                 \n",
      " dropout_1 (Dropout)         (None, 75, 256)           0         \n",
      "                                                                 \n",
      " dense (Dense)               (None, 75, 41)            10537     \n",
      "                                                                 \n",
      "=================================================================\n",
      "Total params: 8471924 (32.32 MB)\n",
      "Trainable params: 8471924 (32.32 MB)\n",
      "Non-trainable params: 0 (0.00 Byte)\n",
      "_________________________________________________________________\n"
     ]
    }
   ],
   "source": [
    "model.summary()"
   ]
  },
  {
   "cell_type": "code",
   "execution_count": 39,
   "id": "f4b4798c-a65a-4c47-9e2a-3b09dc98d320",
   "metadata": {},
   "outputs": [
    {
     "data": {
      "text/plain": [
       "6375"
      ]
     },
     "execution_count": 39,
     "metadata": {},
     "output_type": "execute_result"
    }
   ],
   "source": [
    "5*17*75"
   ]
  },
  {
   "cell_type": "code",
   "execution_count": 40,
   "id": "e5c2eae0-c359-41a4-97a0-75c44dccb7d1",
   "metadata": {
    "tags": []
   },
   "outputs": [
    {
     "name": "stdout",
     "output_type": "stream",
     "text": [
      "1/1 [==============================] - 3s 3s/step\n"
     ]
    }
   ],
   "source": [
    "yhat = model.predict(val[0])"
   ]
  },
  {
   "cell_type": "code",
   "execution_count": 41,
   "id": "ffdc7319-0d69-4f7e-a6d4-ce72deb81c0b",
   "metadata": {},
   "outputs": [
    {
     "data": {
      "text/plain": [
       "<tf.Tensor: shape=(), dtype=string, numpy=b'ooooooooooooooooooooooooooooooooooooooooooooooooooooooooooooooooooooooooovv'>"
      ]
     },
     "execution_count": 41,
     "metadata": {},
     "output_type": "execute_result"
    }
   ],
   "source": [
    "tf.strings.reduce_join([num_to_char(x) for x in tf.argmax(yhat[0],axis=1)])"
   ]
  },
  {
   "cell_type": "code",
   "execution_count": 42,
   "id": "6ed47531-8317-4255-9a12-b757642258e6",
   "metadata": {
    "tags": []
   },
   "outputs": [
    {
     "data": {
      "text/plain": [
       "<tf.Tensor: shape=(), dtype=string, numpy=b'ooooooooooooooooooooooooooooooooooooooooooooooooooooooooooooooooooooooooovv'>"
      ]
     },
     "execution_count": 42,
     "metadata": {},
     "output_type": "execute_result"
    }
   ],
   "source": [
    "tf.strings.reduce_join([num_to_char(tf.argmax(x)) for x in yhat[0]])"
   ]
  },
  {
   "cell_type": "code",
   "execution_count": 43,
   "id": "7c37b9b9-5298-4038-9c33-5031d1b457f0",
   "metadata": {
    "tags": []
   },
   "outputs": [
    {
     "data": {
      "text/plain": [
       "(None, 75, 46, 140, 1)"
      ]
     },
     "execution_count": 43,
     "metadata": {},
     "output_type": "execute_result"
    }
   ],
   "source": [
    "model.input_shape"
   ]
  },
  {
   "cell_type": "code",
   "execution_count": 44,
   "id": "98b316a4-5322-4782-8e36-4b3c1a696d85",
   "metadata": {
    "tags": []
   },
   "outputs": [
    {
     "data": {
      "text/plain": [
       "(None, 75, 41)"
      ]
     },
     "execution_count": 44,
     "metadata": {},
     "output_type": "execute_result"
    }
   ],
   "source": [
    "model.output_shape"
   ]
  },
  {
   "cell_type": "markdown",
   "id": "2ec02176-5c26-46c3-aff7-8352e6563c7d",
   "metadata": {
    "tags": []
   },
   "source": [
    "# 4. Setup Training Options and Train"
   ]
  },
  {
   "cell_type": "code",
   "execution_count": 45,
   "id": "ab015fd0-7fb4-4d5d-9fa2-30a05dbd515a",
   "metadata": {
    "tags": []
   },
   "outputs": [],
   "source": [
    "def scheduler(epoch, lr):\n",
    "    if epoch < 30:\n",
    "        return lr\n",
    "    else:\n",
    "        return lr * tf.math.exp(-0.1)"
   ]
  },
  {
   "cell_type": "code",
   "execution_count": 46,
   "id": "c564d5c9-db54-4e88-b311-9aeab7fb3e69",
   "metadata": {
    "tags": []
   },
   "outputs": [],
   "source": [
    "def CTCLoss(y_true, y_pred):\n",
    "    batch_len = tf.cast(tf.shape(y_true)[0], dtype=\"int64\")\n",
    "    input_length = tf.cast(tf.shape(y_pred)[1], dtype=\"int64\")\n",
    "    label_length = tf.cast(tf.shape(y_true)[1], dtype=\"int64\")\n",
    "\n",
    "    input_length = input_length * tf.ones(shape=(batch_len, 1), dtype=\"int64\")\n",
    "    label_length = label_length * tf.ones(shape=(batch_len, 1), dtype=\"int64\")\n",
    "\n",
    "    loss = tf.keras.backend.ctc_batch_cost(y_true, y_pred, input_length, label_length)\n",
    "    return loss"
   ]
  },
  {
   "cell_type": "code",
   "execution_count": 47,
   "id": "a26dc3fc-a19c-4378-bd8c-e2b597a1d15c",
   "metadata": {
    "tags": []
   },
   "outputs": [],
   "source": [
    "class ProduceExample(tf.keras.callbacks.Callback): \n",
    "    def __init__(self, dataset) -> None: \n",
    "        self.dataset = dataset.as_numpy_iterator()\n",
    "    \n",
    "    def on_epoch_end(self, epoch, logs=None) -> None:\n",
    "        data = self.dataset.next()\n",
    "        yhat = self.model.predict(data[0])\n",
    "        decoded = tf.keras.backend.ctc_decode(yhat, [75,75], greedy=False)[0][0].numpy()\n",
    "        for x in range(len(yhat)):           \n",
    "            print('Original:', tf.strings.reduce_join(num_to_char(data[1][x])).numpy().decode('utf-8'))\n",
    "            print('Prediction:', tf.strings.reduce_join(num_to_char(decoded[x])).numpy().decode('utf-8'))\n",
    "            print('~'*100)"
   ]
  },
  {
   "cell_type": "code",
   "execution_count": 48,
   "id": "04be90d8-2482-46f9-b513-d5f4f8001c7e",
   "metadata": {
    "tags": []
   },
   "outputs": [],
   "source": [
    "model.compile(optimizer = tf.keras.optimizers.Adam(learning_rate=0.001), loss=CTCLoss)\n"
   ]
  },
  {
   "cell_type": "code",
   "execution_count": 49,
   "id": "eab49367-3f1e-4464-ae76-dbd07549d97e",
   "metadata": {
    "tags": []
   },
   "outputs": [],
   "source": [
    "checkpoint_callback = ModelCheckpoint(os.path.join('models','checkpoint'), monitor='loss', save_weights_only=True) "
   ]
  },
  {
   "cell_type": "code",
   "execution_count": 50,
   "id": "e085a632-d464-46ef-8777-959cad4adb2c",
   "metadata": {
    "tags": []
   },
   "outputs": [],
   "source": [
    "schedule_callback = LearningRateScheduler(scheduler)"
   ]
  },
  {
   "cell_type": "code",
   "execution_count": 52,
   "id": "48eca991-90ab-4592-8a79-b50e9ca015b6",
   "metadata": {
    "tags": []
   },
   "outputs": [],
   "source": [
    "example_callback = ProduceExample(test)"
   ]
  },
  {
   "cell_type": "code",
   "execution_count": 52,
   "id": "8ffba483-aa61-4bbe-a15f-a73e1ddf097c",
   "metadata": {
    "tags": []
   },
   "outputs": [
    {
     "name": "stdout",
     "output_type": "stream",
     "text": [
      "Epoch 1/100\n",
      "WARNING:tensorflow:From C:\\Users\\Farzona\\Youtube\\Tensorflow OD\\TFODCourse\\tfod1\\Lib\\site-packages\\keras\\src\\backend.py:7169: The name tf.nn.ctc_loss is deprecated. Please use tf.compat.v1.nn.ctc_loss instead.\n",
      "\n",
      "1/1 [==============================] - 4s 4s/steps - loss: 84.22\n",
      "Original: lay red with l six please\n",
      "Prediction: le e e e o\n",
      "~~~~~~~~~~~~~~~~~~~~~~~~~~~~~~~~~~~~~~~~~~~~~~~~~~~~~~~~~~~~~~~~~~~~~~~~~~~~~~~~~~~~~~~~~~~~~~~~~~~~\n",
      "Original: set white with c seven again\n",
      "Prediction: la e e e e o\n",
      "~~~~~~~~~~~~~~~~~~~~~~~~~~~~~~~~~~~~~~~~~~~~~~~~~~~~~~~~~~~~~~~~~~~~~~~~~~~~~~~~~~~~~~~~~~~~~~~~~~~~\n",
      "450/450 [==============================] - 2790s 6s/step - loss: 84.2257 - val_loss: 71.0229 - lr: 1.0000e-04\n",
      "Epoch 2/100\n",
      "1/1 [==============================] - 1s 1s/steps - loss: 70.49\n",
      "Original: lay green at z nine again\n",
      "Prediction: la e e e e on\n",
      "~~~~~~~~~~~~~~~~~~~~~~~~~~~~~~~~~~~~~~~~~~~~~~~~~~~~~~~~~~~~~~~~~~~~~~~~~~~~~~~~~~~~~~~~~~~~~~~~~~~~\n",
      "Original: bin white at a zero now\n",
      "Prediction: la e e e e o\n",
      "~~~~~~~~~~~~~~~~~~~~~~~~~~~~~~~~~~~~~~~~~~~~~~~~~~~~~~~~~~~~~~~~~~~~~~~~~~~~~~~~~~~~~~~~~~~~~~~~~~~~\n",
      "450/450 [==============================] - 2546s 6s/step - loss: 70.4937 - val_loss: 65.2822 - lr: 1.0000e-04\n",
      "Epoch 3/100\n",
      "1/1 [==============================] - 1s 1s/steps - loss: 66.72\n",
      "Original: place green in d four now\n",
      "Prediction: la e e t e ea\n",
      "~~~~~~~~~~~~~~~~~~~~~~~~~~~~~~~~~~~~~~~~~~~~~~~~~~~~~~~~~~~~~~~~~~~~~~~~~~~~~~~~~~~~~~~~~~~~~~~~~~~~\n",
      "Original: set green at v four now\n",
      "Prediction: la e e t e ea\n",
      "~~~~~~~~~~~~~~~~~~~~~~~~~~~~~~~~~~~~~~~~~~~~~~~~~~~~~~~~~~~~~~~~~~~~~~~~~~~~~~~~~~~~~~~~~~~~~~~~~~~~\n",
      "450/450 [==============================] - 2467s 5s/step - loss: 66.7251 - val_loss: 62.0797 - lr: 1.0000e-04\n",
      "Epoch 4/100\n",
      "1/1 [==============================] - 1s 1s/steps - loss: 64.08\n",
      "Original: set green with j seven again\n",
      "Prediction: la e e t e eo\n",
      "~~~~~~~~~~~~~~~~~~~~~~~~~~~~~~~~~~~~~~~~~~~~~~~~~~~~~~~~~~~~~~~~~~~~~~~~~~~~~~~~~~~~~~~~~~~~~~~~~~~~\n",
      "Original: place white by d nine again\n",
      "Prediction: la e e t e eo\n",
      "~~~~~~~~~~~~~~~~~~~~~~~~~~~~~~~~~~~~~~~~~~~~~~~~~~~~~~~~~~~~~~~~~~~~~~~~~~~~~~~~~~~~~~~~~~~~~~~~~~~~\n",
      "450/450 [==============================] - 2551s 6s/step - loss: 64.0837 - val_loss: 60.4870 - lr: 1.0000e-04\n",
      "Epoch 5/100\n",
      "110/450 [======>.......................] - ETA: 26:39 - loss: 62.5226"
     ]
    },
    {
     "ename": "KeyboardInterrupt",
     "evalue": "",
     "output_type": "error",
     "traceback": [
      "\u001b[1;31m---------------------------------------------------------------------------\u001b[0m",
      "\u001b[1;31mKeyboardInterrupt\u001b[0m                         Traceback (most recent call last)",
      "Cell \u001b[1;32mIn[52], line 1\u001b[0m\n\u001b[1;32m----> 1\u001b[0m \u001b[43mmodel\u001b[49m\u001b[38;5;241;43m.\u001b[39;49m\u001b[43mfit\u001b[49m\u001b[43m(\u001b[49m\u001b[43mtrain\u001b[49m\u001b[43m,\u001b[49m\u001b[43m \u001b[49m\u001b[43mvalidation_data\u001b[49m\u001b[38;5;241;43m=\u001b[39;49m\u001b[43mtest\u001b[49m\u001b[43m,\u001b[49m\u001b[43m \u001b[49m\u001b[43mepochs\u001b[49m\u001b[38;5;241;43m=\u001b[39;49m\u001b[38;5;241;43m100\u001b[39;49m\u001b[43m,\u001b[49m\u001b[43m \u001b[49m\u001b[43mcallbacks\u001b[49m\u001b[38;5;241;43m=\u001b[39;49m\u001b[43m[\u001b[49m\u001b[43mcheckpoint_callback\u001b[49m\u001b[43m,\u001b[49m\u001b[43m \u001b[49m\u001b[43mschedule_callback\u001b[49m\u001b[43m,\u001b[49m\u001b[43m \u001b[49m\u001b[43mexample_callback\u001b[49m\u001b[43m]\u001b[49m\u001b[43m)\u001b[49m\n",
      "File \u001b[1;32m~\\Youtube\\Tensorflow OD\\TFODCourse\\tfod1\\Lib\\site-packages\\keras\\src\\utils\\traceback_utils.py:65\u001b[0m, in \u001b[0;36mfilter_traceback.<locals>.error_handler\u001b[1;34m(*args, **kwargs)\u001b[0m\n\u001b[0;32m     63\u001b[0m filtered_tb \u001b[38;5;241m=\u001b[39m \u001b[38;5;28;01mNone\u001b[39;00m\n\u001b[0;32m     64\u001b[0m \u001b[38;5;28;01mtry\u001b[39;00m:\n\u001b[1;32m---> 65\u001b[0m     \u001b[38;5;28;01mreturn\u001b[39;00m \u001b[43mfn\u001b[49m\u001b[43m(\u001b[49m\u001b[38;5;241;43m*\u001b[39;49m\u001b[43margs\u001b[49m\u001b[43m,\u001b[49m\u001b[43m \u001b[49m\u001b[38;5;241;43m*\u001b[39;49m\u001b[38;5;241;43m*\u001b[39;49m\u001b[43mkwargs\u001b[49m\u001b[43m)\u001b[49m\n\u001b[0;32m     66\u001b[0m \u001b[38;5;28;01mexcept\u001b[39;00m \u001b[38;5;167;01mException\u001b[39;00m \u001b[38;5;28;01mas\u001b[39;00m e:\n\u001b[0;32m     67\u001b[0m     filtered_tb \u001b[38;5;241m=\u001b[39m _process_traceback_frames(e\u001b[38;5;241m.\u001b[39m__traceback__)\n",
      "File \u001b[1;32m~\\Youtube\\Tensorflow OD\\TFODCourse\\tfod1\\Lib\\site-packages\\keras\\src\\engine\\training.py:1807\u001b[0m, in \u001b[0;36mModel.fit\u001b[1;34m(self, x, y, batch_size, epochs, verbose, callbacks, validation_split, validation_data, shuffle, class_weight, sample_weight, initial_epoch, steps_per_epoch, validation_steps, validation_batch_size, validation_freq, max_queue_size, workers, use_multiprocessing)\u001b[0m\n\u001b[0;32m   1799\u001b[0m \u001b[38;5;28;01mwith\u001b[39;00m tf\u001b[38;5;241m.\u001b[39mprofiler\u001b[38;5;241m.\u001b[39mexperimental\u001b[38;5;241m.\u001b[39mTrace(\n\u001b[0;32m   1800\u001b[0m     \u001b[38;5;124m\"\u001b[39m\u001b[38;5;124mtrain\u001b[39m\u001b[38;5;124m\"\u001b[39m,\n\u001b[0;32m   1801\u001b[0m     epoch_num\u001b[38;5;241m=\u001b[39mepoch,\n\u001b[1;32m   (...)\u001b[0m\n\u001b[0;32m   1804\u001b[0m     _r\u001b[38;5;241m=\u001b[39m\u001b[38;5;241m1\u001b[39m,\n\u001b[0;32m   1805\u001b[0m ):\n\u001b[0;32m   1806\u001b[0m     callbacks\u001b[38;5;241m.\u001b[39mon_train_batch_begin(step)\n\u001b[1;32m-> 1807\u001b[0m     tmp_logs \u001b[38;5;241m=\u001b[39m \u001b[38;5;28;43mself\u001b[39;49m\u001b[38;5;241;43m.\u001b[39;49m\u001b[43mtrain_function\u001b[49m\u001b[43m(\u001b[49m\u001b[43miterator\u001b[49m\u001b[43m)\u001b[49m\n\u001b[0;32m   1808\u001b[0m     \u001b[38;5;28;01mif\u001b[39;00m data_handler\u001b[38;5;241m.\u001b[39mshould_sync:\n\u001b[0;32m   1809\u001b[0m         context\u001b[38;5;241m.\u001b[39masync_wait()\n",
      "File \u001b[1;32m~\\Youtube\\Tensorflow OD\\TFODCourse\\tfod1\\Lib\\site-packages\\tensorflow\\python\\util\\traceback_utils.py:150\u001b[0m, in \u001b[0;36mfilter_traceback.<locals>.error_handler\u001b[1;34m(*args, **kwargs)\u001b[0m\n\u001b[0;32m    148\u001b[0m filtered_tb \u001b[38;5;241m=\u001b[39m \u001b[38;5;28;01mNone\u001b[39;00m\n\u001b[0;32m    149\u001b[0m \u001b[38;5;28;01mtry\u001b[39;00m:\n\u001b[1;32m--> 150\u001b[0m   \u001b[38;5;28;01mreturn\u001b[39;00m \u001b[43mfn\u001b[49m\u001b[43m(\u001b[49m\u001b[38;5;241;43m*\u001b[39;49m\u001b[43margs\u001b[49m\u001b[43m,\u001b[49m\u001b[43m \u001b[49m\u001b[38;5;241;43m*\u001b[39;49m\u001b[38;5;241;43m*\u001b[39;49m\u001b[43mkwargs\u001b[49m\u001b[43m)\u001b[49m\n\u001b[0;32m    151\u001b[0m \u001b[38;5;28;01mexcept\u001b[39;00m \u001b[38;5;167;01mException\u001b[39;00m \u001b[38;5;28;01mas\u001b[39;00m e:\n\u001b[0;32m    152\u001b[0m   filtered_tb \u001b[38;5;241m=\u001b[39m _process_traceback_frames(e\u001b[38;5;241m.\u001b[39m__traceback__)\n",
      "File \u001b[1;32m~\\Youtube\\Tensorflow OD\\TFODCourse\\tfod1\\Lib\\site-packages\\tensorflow\\python\\eager\\polymorphic_function\\polymorphic_function.py:832\u001b[0m, in \u001b[0;36mFunction.__call__\u001b[1;34m(self, *args, **kwds)\u001b[0m\n\u001b[0;32m    829\u001b[0m compiler \u001b[38;5;241m=\u001b[39m \u001b[38;5;124m\"\u001b[39m\u001b[38;5;124mxla\u001b[39m\u001b[38;5;124m\"\u001b[39m \u001b[38;5;28;01mif\u001b[39;00m \u001b[38;5;28mself\u001b[39m\u001b[38;5;241m.\u001b[39m_jit_compile \u001b[38;5;28;01melse\u001b[39;00m \u001b[38;5;124m\"\u001b[39m\u001b[38;5;124mnonXla\u001b[39m\u001b[38;5;124m\"\u001b[39m\n\u001b[0;32m    831\u001b[0m \u001b[38;5;28;01mwith\u001b[39;00m OptionalXlaContext(\u001b[38;5;28mself\u001b[39m\u001b[38;5;241m.\u001b[39m_jit_compile):\n\u001b[1;32m--> 832\u001b[0m   result \u001b[38;5;241m=\u001b[39m \u001b[38;5;28;43mself\u001b[39;49m\u001b[38;5;241;43m.\u001b[39;49m\u001b[43m_call\u001b[49m\u001b[43m(\u001b[49m\u001b[38;5;241;43m*\u001b[39;49m\u001b[43margs\u001b[49m\u001b[43m,\u001b[49m\u001b[43m \u001b[49m\u001b[38;5;241;43m*\u001b[39;49m\u001b[38;5;241;43m*\u001b[39;49m\u001b[43mkwds\u001b[49m\u001b[43m)\u001b[49m\n\u001b[0;32m    834\u001b[0m new_tracing_count \u001b[38;5;241m=\u001b[39m \u001b[38;5;28mself\u001b[39m\u001b[38;5;241m.\u001b[39mexperimental_get_tracing_count()\n\u001b[0;32m    835\u001b[0m without_tracing \u001b[38;5;241m=\u001b[39m (tracing_count \u001b[38;5;241m==\u001b[39m new_tracing_count)\n",
      "File \u001b[1;32m~\\Youtube\\Tensorflow OD\\TFODCourse\\tfod1\\Lib\\site-packages\\tensorflow\\python\\eager\\polymorphic_function\\polymorphic_function.py:868\u001b[0m, in \u001b[0;36mFunction._call\u001b[1;34m(self, *args, **kwds)\u001b[0m\n\u001b[0;32m    865\u001b[0m   \u001b[38;5;28mself\u001b[39m\u001b[38;5;241m.\u001b[39m_lock\u001b[38;5;241m.\u001b[39mrelease()\n\u001b[0;32m    866\u001b[0m   \u001b[38;5;66;03m# In this case we have created variables on the first call, so we run the\u001b[39;00m\n\u001b[0;32m    867\u001b[0m   \u001b[38;5;66;03m# defunned version which is guaranteed to never create variables.\u001b[39;00m\n\u001b[1;32m--> 868\u001b[0m   \u001b[38;5;28;01mreturn\u001b[39;00m \u001b[43mtracing_compilation\u001b[49m\u001b[38;5;241;43m.\u001b[39;49m\u001b[43mcall_function\u001b[49m\u001b[43m(\u001b[49m\n\u001b[0;32m    869\u001b[0m \u001b[43m      \u001b[49m\u001b[43margs\u001b[49m\u001b[43m,\u001b[49m\u001b[43m \u001b[49m\u001b[43mkwds\u001b[49m\u001b[43m,\u001b[49m\u001b[43m \u001b[49m\u001b[38;5;28;43mself\u001b[39;49m\u001b[38;5;241;43m.\u001b[39;49m\u001b[43m_no_variable_creation_config\u001b[49m\n\u001b[0;32m    870\u001b[0m \u001b[43m  \u001b[49m\u001b[43m)\u001b[49m\n\u001b[0;32m    871\u001b[0m \u001b[38;5;28;01melif\u001b[39;00m \u001b[38;5;28mself\u001b[39m\u001b[38;5;241m.\u001b[39m_variable_creation_config \u001b[38;5;129;01mis\u001b[39;00m \u001b[38;5;129;01mnot\u001b[39;00m \u001b[38;5;28;01mNone\u001b[39;00m:\n\u001b[0;32m    872\u001b[0m   \u001b[38;5;66;03m# Release the lock early so that multiple threads can perform the call\u001b[39;00m\n\u001b[0;32m    873\u001b[0m   \u001b[38;5;66;03m# in parallel.\u001b[39;00m\n\u001b[0;32m    874\u001b[0m   \u001b[38;5;28mself\u001b[39m\u001b[38;5;241m.\u001b[39m_lock\u001b[38;5;241m.\u001b[39mrelease()\n",
      "File \u001b[1;32m~\\Youtube\\Tensorflow OD\\TFODCourse\\tfod1\\Lib\\site-packages\\tensorflow\\python\\eager\\polymorphic_function\\tracing_compilation.py:139\u001b[0m, in \u001b[0;36mcall_function\u001b[1;34m(args, kwargs, tracing_options)\u001b[0m\n\u001b[0;32m    137\u001b[0m bound_args \u001b[38;5;241m=\u001b[39m function\u001b[38;5;241m.\u001b[39mfunction_type\u001b[38;5;241m.\u001b[39mbind(\u001b[38;5;241m*\u001b[39margs, \u001b[38;5;241m*\u001b[39m\u001b[38;5;241m*\u001b[39mkwargs)\n\u001b[0;32m    138\u001b[0m flat_inputs \u001b[38;5;241m=\u001b[39m function\u001b[38;5;241m.\u001b[39mfunction_type\u001b[38;5;241m.\u001b[39munpack_inputs(bound_args)\n\u001b[1;32m--> 139\u001b[0m \u001b[38;5;28;01mreturn\u001b[39;00m \u001b[43mfunction\u001b[49m\u001b[38;5;241;43m.\u001b[39;49m\u001b[43m_call_flat\u001b[49m\u001b[43m(\u001b[49m\u001b[43m  \u001b[49m\u001b[38;5;66;43;03m# pylint: disable=protected-access\u001b[39;49;00m\n\u001b[0;32m    140\u001b[0m \u001b[43m    \u001b[49m\u001b[43mflat_inputs\u001b[49m\u001b[43m,\u001b[49m\u001b[43m \u001b[49m\u001b[43mcaptured_inputs\u001b[49m\u001b[38;5;241;43m=\u001b[39;49m\u001b[43mfunction\u001b[49m\u001b[38;5;241;43m.\u001b[39;49m\u001b[43mcaptured_inputs\u001b[49m\n\u001b[0;32m    141\u001b[0m \u001b[43m\u001b[49m\u001b[43m)\u001b[49m\n",
      "File \u001b[1;32m~\\Youtube\\Tensorflow OD\\TFODCourse\\tfod1\\Lib\\site-packages\\tensorflow\\python\\eager\\polymorphic_function\\concrete_function.py:1323\u001b[0m, in \u001b[0;36mConcreteFunction._call_flat\u001b[1;34m(self, tensor_inputs, captured_inputs)\u001b[0m\n\u001b[0;32m   1319\u001b[0m possible_gradient_type \u001b[38;5;241m=\u001b[39m gradients_util\u001b[38;5;241m.\u001b[39mPossibleTapeGradientTypes(args)\n\u001b[0;32m   1320\u001b[0m \u001b[38;5;28;01mif\u001b[39;00m (possible_gradient_type \u001b[38;5;241m==\u001b[39m gradients_util\u001b[38;5;241m.\u001b[39mPOSSIBLE_GRADIENT_TYPES_NONE\n\u001b[0;32m   1321\u001b[0m     \u001b[38;5;129;01mand\u001b[39;00m executing_eagerly):\n\u001b[0;32m   1322\u001b[0m   \u001b[38;5;66;03m# No tape is watching; skip to running the function.\u001b[39;00m\n\u001b[1;32m-> 1323\u001b[0m   \u001b[38;5;28;01mreturn\u001b[39;00m \u001b[38;5;28;43mself\u001b[39;49m\u001b[38;5;241;43m.\u001b[39;49m\u001b[43m_inference_function\u001b[49m\u001b[38;5;241;43m.\u001b[39;49m\u001b[43mcall_preflattened\u001b[49m\u001b[43m(\u001b[49m\u001b[43margs\u001b[49m\u001b[43m)\u001b[49m\n\u001b[0;32m   1324\u001b[0m forward_backward \u001b[38;5;241m=\u001b[39m \u001b[38;5;28mself\u001b[39m\u001b[38;5;241m.\u001b[39m_select_forward_and_backward_functions(\n\u001b[0;32m   1325\u001b[0m     args,\n\u001b[0;32m   1326\u001b[0m     possible_gradient_type,\n\u001b[0;32m   1327\u001b[0m     executing_eagerly)\n\u001b[0;32m   1328\u001b[0m forward_function, args_with_tangents \u001b[38;5;241m=\u001b[39m forward_backward\u001b[38;5;241m.\u001b[39mforward()\n",
      "File \u001b[1;32m~\\Youtube\\Tensorflow OD\\TFODCourse\\tfod1\\Lib\\site-packages\\tensorflow\\python\\eager\\polymorphic_function\\atomic_function.py:216\u001b[0m, in \u001b[0;36mAtomicFunction.call_preflattened\u001b[1;34m(self, args)\u001b[0m\n\u001b[0;32m    214\u001b[0m \u001b[38;5;28;01mdef\u001b[39;00m \u001b[38;5;21mcall_preflattened\u001b[39m(\u001b[38;5;28mself\u001b[39m, args: Sequence[core\u001b[38;5;241m.\u001b[39mTensor]) \u001b[38;5;241m-\u001b[39m\u001b[38;5;241m>\u001b[39m Any:\n\u001b[0;32m    215\u001b[0m \u001b[38;5;250m  \u001b[39m\u001b[38;5;124;03m\"\"\"Calls with flattened tensor inputs and returns the structured output.\"\"\"\u001b[39;00m\n\u001b[1;32m--> 216\u001b[0m   flat_outputs \u001b[38;5;241m=\u001b[39m \u001b[38;5;28;43mself\u001b[39;49m\u001b[38;5;241;43m.\u001b[39;49m\u001b[43mcall_flat\u001b[49m\u001b[43m(\u001b[49m\u001b[38;5;241;43m*\u001b[39;49m\u001b[43margs\u001b[49m\u001b[43m)\u001b[49m\n\u001b[0;32m    217\u001b[0m   \u001b[38;5;28;01mreturn\u001b[39;00m \u001b[38;5;28mself\u001b[39m\u001b[38;5;241m.\u001b[39mfunction_type\u001b[38;5;241m.\u001b[39mpack_output(flat_outputs)\n",
      "File \u001b[1;32m~\\Youtube\\Tensorflow OD\\TFODCourse\\tfod1\\Lib\\site-packages\\tensorflow\\python\\eager\\polymorphic_function\\atomic_function.py:251\u001b[0m, in \u001b[0;36mAtomicFunction.call_flat\u001b[1;34m(self, *args)\u001b[0m\n\u001b[0;32m    249\u001b[0m \u001b[38;5;28;01mwith\u001b[39;00m record\u001b[38;5;241m.\u001b[39mstop_recording():\n\u001b[0;32m    250\u001b[0m   \u001b[38;5;28;01mif\u001b[39;00m \u001b[38;5;28mself\u001b[39m\u001b[38;5;241m.\u001b[39m_bound_context\u001b[38;5;241m.\u001b[39mexecuting_eagerly():\n\u001b[1;32m--> 251\u001b[0m     outputs \u001b[38;5;241m=\u001b[39m \u001b[38;5;28;43mself\u001b[39;49m\u001b[38;5;241;43m.\u001b[39;49m\u001b[43m_bound_context\u001b[49m\u001b[38;5;241;43m.\u001b[39;49m\u001b[43mcall_function\u001b[49m\u001b[43m(\u001b[49m\n\u001b[0;32m    252\u001b[0m \u001b[43m        \u001b[49m\u001b[38;5;28;43mself\u001b[39;49m\u001b[38;5;241;43m.\u001b[39;49m\u001b[43mname\u001b[49m\u001b[43m,\u001b[49m\n\u001b[0;32m    253\u001b[0m \u001b[43m        \u001b[49m\u001b[38;5;28;43mlist\u001b[39;49m\u001b[43m(\u001b[49m\u001b[43margs\u001b[49m\u001b[43m)\u001b[49m\u001b[43m,\u001b[49m\n\u001b[0;32m    254\u001b[0m \u001b[43m        \u001b[49m\u001b[38;5;28;43mlen\u001b[39;49m\u001b[43m(\u001b[49m\u001b[38;5;28;43mself\u001b[39;49m\u001b[38;5;241;43m.\u001b[39;49m\u001b[43mfunction_type\u001b[49m\u001b[38;5;241;43m.\u001b[39;49m\u001b[43mflat_outputs\u001b[49m\u001b[43m)\u001b[49m\u001b[43m,\u001b[49m\n\u001b[0;32m    255\u001b[0m \u001b[43m    \u001b[49m\u001b[43m)\u001b[49m\n\u001b[0;32m    256\u001b[0m   \u001b[38;5;28;01melse\u001b[39;00m:\n\u001b[0;32m    257\u001b[0m     outputs \u001b[38;5;241m=\u001b[39m make_call_op_in_graph(\n\u001b[0;32m    258\u001b[0m         \u001b[38;5;28mself\u001b[39m,\n\u001b[0;32m    259\u001b[0m         \u001b[38;5;28mlist\u001b[39m(args),\n\u001b[0;32m    260\u001b[0m         \u001b[38;5;28mself\u001b[39m\u001b[38;5;241m.\u001b[39m_bound_context\u001b[38;5;241m.\u001b[39mfunction_call_options\u001b[38;5;241m.\u001b[39mas_attrs(),\n\u001b[0;32m    261\u001b[0m     )\n",
      "File \u001b[1;32m~\\Youtube\\Tensorflow OD\\TFODCourse\\tfod1\\Lib\\site-packages\\tensorflow\\python\\eager\\context.py:1486\u001b[0m, in \u001b[0;36mContext.call_function\u001b[1;34m(self, name, tensor_inputs, num_outputs)\u001b[0m\n\u001b[0;32m   1484\u001b[0m cancellation_context \u001b[38;5;241m=\u001b[39m cancellation\u001b[38;5;241m.\u001b[39mcontext()\n\u001b[0;32m   1485\u001b[0m \u001b[38;5;28;01mif\u001b[39;00m cancellation_context \u001b[38;5;129;01mis\u001b[39;00m \u001b[38;5;28;01mNone\u001b[39;00m:\n\u001b[1;32m-> 1486\u001b[0m   outputs \u001b[38;5;241m=\u001b[39m \u001b[43mexecute\u001b[49m\u001b[38;5;241;43m.\u001b[39;49m\u001b[43mexecute\u001b[49m\u001b[43m(\u001b[49m\n\u001b[0;32m   1487\u001b[0m \u001b[43m      \u001b[49m\u001b[43mname\u001b[49m\u001b[38;5;241;43m.\u001b[39;49m\u001b[43mdecode\u001b[49m\u001b[43m(\u001b[49m\u001b[38;5;124;43m\"\u001b[39;49m\u001b[38;5;124;43mutf-8\u001b[39;49m\u001b[38;5;124;43m\"\u001b[39;49m\u001b[43m)\u001b[49m\u001b[43m,\u001b[49m\n\u001b[0;32m   1488\u001b[0m \u001b[43m      \u001b[49m\u001b[43mnum_outputs\u001b[49m\u001b[38;5;241;43m=\u001b[39;49m\u001b[43mnum_outputs\u001b[49m\u001b[43m,\u001b[49m\n\u001b[0;32m   1489\u001b[0m \u001b[43m      \u001b[49m\u001b[43minputs\u001b[49m\u001b[38;5;241;43m=\u001b[39;49m\u001b[43mtensor_inputs\u001b[49m\u001b[43m,\u001b[49m\n\u001b[0;32m   1490\u001b[0m \u001b[43m      \u001b[49m\u001b[43mattrs\u001b[49m\u001b[38;5;241;43m=\u001b[39;49m\u001b[43mattrs\u001b[49m\u001b[43m,\u001b[49m\n\u001b[0;32m   1491\u001b[0m \u001b[43m      \u001b[49m\u001b[43mctx\u001b[49m\u001b[38;5;241;43m=\u001b[39;49m\u001b[38;5;28;43mself\u001b[39;49m\u001b[43m,\u001b[49m\n\u001b[0;32m   1492\u001b[0m \u001b[43m  \u001b[49m\u001b[43m)\u001b[49m\n\u001b[0;32m   1493\u001b[0m \u001b[38;5;28;01melse\u001b[39;00m:\n\u001b[0;32m   1494\u001b[0m   outputs \u001b[38;5;241m=\u001b[39m execute\u001b[38;5;241m.\u001b[39mexecute_with_cancellation(\n\u001b[0;32m   1495\u001b[0m       name\u001b[38;5;241m.\u001b[39mdecode(\u001b[38;5;124m\"\u001b[39m\u001b[38;5;124mutf-8\u001b[39m\u001b[38;5;124m\"\u001b[39m),\n\u001b[0;32m   1496\u001b[0m       num_outputs\u001b[38;5;241m=\u001b[39mnum_outputs,\n\u001b[1;32m   (...)\u001b[0m\n\u001b[0;32m   1500\u001b[0m       cancellation_manager\u001b[38;5;241m=\u001b[39mcancellation_context,\n\u001b[0;32m   1501\u001b[0m   )\n",
      "File \u001b[1;32m~\\Youtube\\Tensorflow OD\\TFODCourse\\tfod1\\Lib\\site-packages\\tensorflow\\python\\eager\\execute.py:53\u001b[0m, in \u001b[0;36mquick_execute\u001b[1;34m(op_name, num_outputs, inputs, attrs, ctx, name)\u001b[0m\n\u001b[0;32m     51\u001b[0m \u001b[38;5;28;01mtry\u001b[39;00m:\n\u001b[0;32m     52\u001b[0m   ctx\u001b[38;5;241m.\u001b[39mensure_initialized()\n\u001b[1;32m---> 53\u001b[0m   tensors \u001b[38;5;241m=\u001b[39m \u001b[43mpywrap_tfe\u001b[49m\u001b[38;5;241;43m.\u001b[39;49m\u001b[43mTFE_Py_Execute\u001b[49m\u001b[43m(\u001b[49m\u001b[43mctx\u001b[49m\u001b[38;5;241;43m.\u001b[39;49m\u001b[43m_handle\u001b[49m\u001b[43m,\u001b[49m\u001b[43m \u001b[49m\u001b[43mdevice_name\u001b[49m\u001b[43m,\u001b[49m\u001b[43m \u001b[49m\u001b[43mop_name\u001b[49m\u001b[43m,\u001b[49m\n\u001b[0;32m     54\u001b[0m \u001b[43m                                      \u001b[49m\u001b[43minputs\u001b[49m\u001b[43m,\u001b[49m\u001b[43m \u001b[49m\u001b[43mattrs\u001b[49m\u001b[43m,\u001b[49m\u001b[43m \u001b[49m\u001b[43mnum_outputs\u001b[49m\u001b[43m)\u001b[49m\n\u001b[0;32m     55\u001b[0m \u001b[38;5;28;01mexcept\u001b[39;00m core\u001b[38;5;241m.\u001b[39m_NotOkStatusException \u001b[38;5;28;01mas\u001b[39;00m e:\n\u001b[0;32m     56\u001b[0m   \u001b[38;5;28;01mif\u001b[39;00m name \u001b[38;5;129;01mis\u001b[39;00m \u001b[38;5;129;01mnot\u001b[39;00m \u001b[38;5;28;01mNone\u001b[39;00m:\n",
      "\u001b[1;31mKeyboardInterrupt\u001b[0m: "
     ]
    }
   ],
   "source": [
    "model.fit(train, validation_data=test, epochs=100, callbacks=[checkpoint_callback, sc\n",
    "                                                              hedule_callback, example_callback])"
   ]
  },
  {
   "cell_type": "markdown",
   "id": "fa8ee94b-89f7-4733-8a0c-a86f86ff590a",
   "metadata": {
    "tags": []
   },
   "source": [
    "# 5. Make a Prediction "
   ]
  },
  {
   "cell_type": "code",
   "execution_count": 53,
   "id": "01fa7204-ce0e-49a8-8dbd-14fe5dfead40",
   "metadata": {
    "tags": []
   },
   "outputs": [
    {
     "name": "stderr",
     "output_type": "stream",
     "text": [
      "Downloading...\n",
      "From (original): https://drive.google.com/uc?id=1vWscXs4Vt0a_1IH1-ct2TCgXAZT-N3_Y\n",
      "From (redirected): https://drive.google.com/uc?id=1vWscXs4Vt0a_1IH1-ct2TCgXAZT-N3_Y&confirm=t&uuid=ef805af7-14c4-4222-a6c6-a6dc41ecb8d8\n",
      "To: C:\\Users\\Farzona\\Youtube\\Lipread\\LipNet\\checkpoints.zip\n",
      "100%|██████████████████████████████████████████████████████████████████████████████| 94.5M/94.5M [01:52<00:00, 841kB/s]\n"
     ]
    },
    {
     "data": {
      "text/plain": [
       "['models\\\\checkpoint.index',\n",
       " 'models\\\\__MACOSX/._checkpoint.index',\n",
       " 'models\\\\checkpoint.data-00000-of-00001',\n",
       " 'models\\\\__MACOSX/._checkpoint.data-00000-of-00001',\n",
       " 'models\\\\checkpoint',\n",
       " 'models\\\\__MACOSX/._checkpoint']"
      ]
     },
     "execution_count": 53,
     "metadata": {},
     "output_type": "execute_result"
    }
   ],
   "source": [
    "url = 'https://drive.google.com/uc?id=1vWscXs4Vt0a_1IH1-ct2TCgXAZT-N3_Y'\n",
    "output = 'checkpoints.zip'\n",
    "gdown.download(url, output, quiet=False)\n",
    "gdown.extractall('checkpoints.zip', 'models')"
   ]
  },
  {
   "cell_type": "code",
   "execution_count": 60,
   "id": "abb64ba1-99d0-49ae-9dbf-46c81836f5af",
   "metadata": {},
   "outputs": [],
   "source": [
    "from keras.optimizers import Adam\n",
    "\n",
    "optimizer = Adam(learning_rate=0.001)\n",
    "\n",
    "import tensorflow as tf\n",
    "\n",
    "optimizer = tf.keras.optimizers.Adam(learning_rate=0.001)\n"
   ]
  },
  {
   "cell_type": "code",
   "execution_count": 60,
   "id": "247f664d-3c87-4e96-946e-930dad0e1c2c",
   "metadata": {
    "tags": []
   },
   "outputs": [
    {
     "ename": "ValueError",
     "evalue": "You are trying to restore a checkpoint from a legacy Keras optimizer into a v2.11+ Optimizer, which can cause errors. Please update the optimizer referenced in your code to be an instance of `tf.keras.optimizers.legacy.Optimizer`, e.g.: `tf.keras.optimizers.legacy.Adam`.",
     "output_type": "error",
     "traceback": [
      "\u001b[1;31m---------------------------------------------------------------------------\u001b[0m",
      "\u001b[1;31mValueError\u001b[0m                                Traceback (most recent call last)",
      "Cell \u001b[1;32mIn[60], line 1\u001b[0m\n\u001b[1;32m----> 1\u001b[0m \u001b[43mmodel\u001b[49m\u001b[38;5;241;43m.\u001b[39;49m\u001b[43mload_weights\u001b[49m\u001b[43m(\u001b[49m\u001b[38;5;124;43m'\u001b[39;49m\u001b[38;5;124;43mC:\u001b[39;49m\u001b[38;5;130;43;01m\\\\\u001b[39;49;00m\u001b[38;5;124;43mUsers\u001b[39;49m\u001b[38;5;130;43;01m\\\\\u001b[39;49;00m\u001b[38;5;124;43mFarzona\u001b[39;49m\u001b[38;5;130;43;01m\\\\\u001b[39;49;00m\u001b[38;5;124;43mYoutube\u001b[39;49m\u001b[38;5;130;43;01m\\\\\u001b[39;49;00m\u001b[38;5;124;43mLipread\u001b[39;49m\u001b[38;5;130;43;01m\\\\\u001b[39;49;00m\u001b[38;5;124;43mLipNet\u001b[39;49m\u001b[38;5;130;43;01m\\\\\u001b[39;49;00m\u001b[38;5;124;43mmodels\u001b[39;49m\u001b[38;5;130;43;01m\\\\\u001b[39;49;00m\u001b[38;5;124;43mcheckpoint\u001b[39;49m\u001b[38;5;124;43m'\u001b[39;49m\u001b[43m)\u001b[49m\n",
      "File \u001b[1;32m~\\Youtube\\Tensorflow OD\\TFODCourse\\tfod1\\Lib\\site-packages\\keras\\src\\utils\\traceback_utils.py:70\u001b[0m, in \u001b[0;36mfilter_traceback.<locals>.error_handler\u001b[1;34m(*args, **kwargs)\u001b[0m\n\u001b[0;32m     67\u001b[0m     filtered_tb \u001b[38;5;241m=\u001b[39m _process_traceback_frames(e\u001b[38;5;241m.\u001b[39m__traceback__)\n\u001b[0;32m     68\u001b[0m     \u001b[38;5;66;03m# To get the full stack trace, call:\u001b[39;00m\n\u001b[0;32m     69\u001b[0m     \u001b[38;5;66;03m# `tf.debugging.disable_traceback_filtering()`\u001b[39;00m\n\u001b[1;32m---> 70\u001b[0m     \u001b[38;5;28;01mraise\u001b[39;00m e\u001b[38;5;241m.\u001b[39mwith_traceback(filtered_tb) \u001b[38;5;28;01mfrom\u001b[39;00m \u001b[38;5;28;01mNone\u001b[39;00m\n\u001b[0;32m     71\u001b[0m \u001b[38;5;28;01mfinally\u001b[39;00m:\n\u001b[0;32m     72\u001b[0m     \u001b[38;5;28;01mdel\u001b[39;00m filtered_tb\n",
      "File \u001b[1;32m~\\Youtube\\Tensorflow OD\\TFODCourse\\tfod1\\Lib\\site-packages\\keras\\src\\optimizers\\optimizer.py:148\u001b[0m, in \u001b[0;36m_BaseOptimizer._create_or_restore_slot_variable\u001b[1;34m(self, **kwargs)\u001b[0m\n\u001b[0;32m    147\u001b[0m \u001b[38;5;28;01mdef\u001b[39;00m \u001b[38;5;21m_create_or_restore_slot_variable\u001b[39m(\u001b[38;5;28mself\u001b[39m, \u001b[38;5;241m*\u001b[39m\u001b[38;5;241m*\u001b[39mkwargs):\n\u001b[1;32m--> 148\u001b[0m     \u001b[38;5;28;01mraise\u001b[39;00m \u001b[38;5;167;01mValueError\u001b[39;00m(\n\u001b[0;32m    149\u001b[0m         \u001b[38;5;124m\"\u001b[39m\u001b[38;5;124mYou are trying to restore a checkpoint from a legacy Keras \u001b[39m\u001b[38;5;124m\"\u001b[39m\n\u001b[0;32m    150\u001b[0m         \u001b[38;5;124m\"\u001b[39m\u001b[38;5;124moptimizer into a v2.11+ Optimizer, which can cause \u001b[39m\u001b[38;5;124m\"\u001b[39m\n\u001b[0;32m    151\u001b[0m         \u001b[38;5;124m\"\u001b[39m\u001b[38;5;124merrors. Please update the optimizer referenced in your code \u001b[39m\u001b[38;5;124m\"\u001b[39m\n\u001b[0;32m    152\u001b[0m         \u001b[38;5;124m\"\u001b[39m\u001b[38;5;124mto be an instance of \u001b[39m\u001b[38;5;124m\"\u001b[39m\n\u001b[0;32m    153\u001b[0m         \u001b[38;5;124m\"\u001b[39m\u001b[38;5;124m`tf.keras.optimizers.legacy.Optimizer`, e.g.: \u001b[39m\u001b[38;5;124m\"\u001b[39m\n\u001b[0;32m    154\u001b[0m         \u001b[38;5;124mf\u001b[39m\u001b[38;5;124m\"\u001b[39m\u001b[38;5;124m`tf.keras.optimizers.legacy.\u001b[39m\u001b[38;5;132;01m{\u001b[39;00m\u001b[38;5;28mself\u001b[39m\u001b[38;5;241m.\u001b[39m\u001b[38;5;18m__class__\u001b[39m\u001b[38;5;241m.\u001b[39m\u001b[38;5;18m__name__\u001b[39m\u001b[38;5;132;01m}\u001b[39;00m\u001b[38;5;124m`.\u001b[39m\u001b[38;5;124m\"\u001b[39m\n\u001b[0;32m    155\u001b[0m     )\n",
      "\u001b[1;31mValueError\u001b[0m: You are trying to restore a checkpoint from a legacy Keras optimizer into a v2.11+ Optimizer, which can cause errors. Please update the optimizer referenced in your code to be an instance of `tf.keras.optimizers.legacy.Optimizer`, e.g.: `tf.keras.optimizers.legacy.Adam`."
     ]
    }
   ],
   "source": [
    "model.load_weights('C:\\\\Users\\\\Farzona\\\\Youtube\\\\Lipread\\\\LipNet\\\\models\\\\checkpoint')"
   ]
  },
  {
   "cell_type": "code",
   "execution_count": 61,
   "id": "7f8d689f-b7bb-443c-9b88-e40c1d800828",
   "metadata": {
    "tags": []
   },
   "outputs": [],
   "source": [
    "test_data = test.as_numpy_iterator()"
   ]
  },
  {
   "cell_type": "code",
   "execution_count": 62,
   "id": "38546dc2-bee9-4837-864b-8a884df40ad7",
   "metadata": {
    "tags": []
   },
   "outputs": [],
   "source": [
    "sample = test_data.next()"
   ]
  },
  {
   "cell_type": "code",
   "execution_count": 63,
   "id": "a43621f0-229d-4c0d-9554-9c3a3da9c61a",
   "metadata": {
    "tags": []
   },
   "outputs": [
    {
     "name": "stdout",
     "output_type": "stream",
     "text": [
      "1/1 [==============================] - 1s 1s/step\n"
     ]
    }
   ],
   "source": [
    "yhat = model.predict(sample[0])"
   ]
  },
  {
   "cell_type": "code",
   "execution_count": 57,
   "id": "ea462999-f87e-4a7e-a057-5be7b6d8f7d5",
   "metadata": {
    "tags": []
   },
   "outputs": [
    {
     "name": "stdout",
     "output_type": "stream",
     "text": [
      "~~~~~~~~~~~~~~~~~~~~~~~~~~~~~~~~~~~~~~~~~~~~~~~~~~~~~~~~~~~~~~~~~~~~~~~~~~~~~~~~~~~~~~~~~~~~~~~~~~~~ REAL TEXT\n"
     ]
    },
    {
     "data": {
      "text/plain": [
       "[<tf.Tensor: shape=(), dtype=string, numpy=b'set green in c zero please'>,\n",
       " <tf.Tensor: shape=(), dtype=string, numpy=b'bin blue in l two now'>]"
      ]
     },
     "execution_count": 57,
     "metadata": {},
     "output_type": "execute_result"
    }
   ],
   "source": [
    "print('~'*100, 'REAL TEXT')\n",
    "[tf.strings.reduce_join([num_to_char(word) for word in sentence]) for sentence in sample[1]]"
   ]
  },
  {
   "cell_type": "code",
   "execution_count": 58,
   "id": "82bd4c10-dd6e-411e-834b-2a3b43fd12c5",
   "metadata": {
    "tags": []
   },
   "outputs": [],
   "source": [
    "decoded = tf.keras.backend.ctc_decode(yhat, input_length=[75,75], greedy=True)[0][0].numpy()"
   ]
  },
  {
   "cell_type": "code",
   "execution_count": 59,
   "id": "5d68ac46-c90b-4eab-a709-f19aee569ff5",
   "metadata": {
    "tags": []
   },
   "outputs": [
    {
     "name": "stdout",
     "output_type": "stream",
     "text": [
      "~~~~~~~~~~~~~~~~~~~~~~~~~~~~~~~~~~~~~~~~~~~~~~~~~~~~~~~~~~~~~~~~~~~~~~~~~~~~~~~~~~~~~~~~~~~~~~~~~~~~ PREDICTIONS\n"
     ]
    },
    {
     "data": {
      "text/plain": [
       "[<tf.Tensor: shape=(), dtype=string, numpy=b'!6v9'>,\n",
       " <tf.Tensor: shape=(), dtype=string, numpy=b'!lololo9'>]"
      ]
     },
     "execution_count": 59,
     "metadata": {},
     "output_type": "execute_result"
    }
   ],
   "source": [
    "print('~'*100, 'PREDICTIONS')\n",
    "[tf.strings.reduce_join([num_to_char(word) for word in sentence]) for sentence in decoded]"
   ]
  },
  {
   "cell_type": "markdown",
   "id": "64622f98-e99b-4fed-a2cc-f0da82eb5431",
   "metadata": {},
   "source": [
    "# Test on a Video"
   ]
  },
  {
   "cell_type": "code",
   "execution_count": 61,
   "id": "a8b0c4d0-2031-4331-b91d-d87b1ae6f6e2",
   "metadata": {},
   "outputs": [],
   "source": [
    "sample = load_data(tf.convert_to_tensor('.\\\\data\\\\s1\\\\bras9a.mpg'))"
   ]
  },
  {
   "cell_type": "code",
   "execution_count": 62,
   "id": "0cca60e4-47a9-4683-8a75-48f4684f723d",
   "metadata": {},
   "outputs": [
    {
     "name": "stdout",
     "output_type": "stream",
     "text": [
      "~~~~~~~~~~~~~~~~~~~~~~~~~~~~~~~~~~~~~~~~~~~~~~~~~~~~~~~~~~~~~~~~~~~~~~~~~~~~~~~~~~~~~~~~~~~~~~~~~~~~ REAL TEXT\n"
     ]
    },
    {
     "data": {
      "text/plain": [
       "[<tf.Tensor: shape=(), dtype=string, numpy=b'bin red at s nine again'>]"
      ]
     },
     "execution_count": 62,
     "metadata": {},
     "output_type": "execute_result"
    }
   ],
   "source": [
    "print('~'*100, 'REAL TEXT')\n",
    "[tf.strings.reduce_join([num_to_char(word) for word in sentence]) for sentence in [sample[1]]]"
   ]
  },
  {
   "cell_type": "code",
   "execution_count": 63,
   "id": "8cc5037c-1e32-435c-b0cc-01e1fb3b863c",
   "metadata": {},
   "outputs": [
    {
     "name": "stdout",
     "output_type": "stream",
     "text": [
      "1/1 [==============================] - 1s 720ms/step\n"
     ]
    }
   ],
   "source": [
    "yhat = model.predict(tf.expand_dims(sample[0], axis=0))"
   ]
  },
  {
   "cell_type": "code",
   "execution_count": 64,
   "id": "22c4f77d-715d-409f-bc5e-3ebe48704e8f",
   "metadata": {},
   "outputs": [],
   "source": [
    "decoded = tf.keras.backend.ctc_decode(yhat, input_length=[75], greedy=True)[0][0].numpy()"
   ]
  },
  {
   "cell_type": "code",
   "execution_count": 65,
   "id": "e4d12ecc-b634-499e-a4bc-db9f010835fb",
   "metadata": {},
   "outputs": [
    {
     "name": "stdout",
     "output_type": "stream",
     "text": [
      "~~~~~~~~~~~~~~~~~~~~~~~~~~~~~~~~~~~~~~~~~~~~~~~~~~~~~~~~~~~~~~~~~~~~~~~~~~~~~~~~~~~~~~~~~~~~~~~~~~~~ PREDICTIONS\n"
     ]
    },
    {
     "data": {
      "text/plain": [
       "[<tf.Tensor: shape=(), dtype=string, numpy=b'bin red at s nine again'>]"
      ]
     },
     "execution_count": 65,
     "metadata": {},
     "output_type": "execute_result"
    }
   ],
   "source": [
    "print('~'*100, 'PREDICTIONS')\n",
    "[tf.strings.reduce_join([num_to_char(word) for word in sentence]) for sentence in decoded]"
   ]
  },
  {
   "cell_type": "code",
   "execution_count": null,
   "id": "551dfea2-de6b-4400-b71a-a17631529e3f",
   "metadata": {},
   "outputs": [],
   "source": []
  },
  {
   "cell_type": "code",
   "execution_count": null,
   "id": "fa95863d-3832-47bf-8a77-ebaa38054ace",
   "metadata": {},
   "outputs": [],
   "source": []
  }
 ],
 "metadata": {
  "kernelspec": {
   "display_name": "tfod1j",
   "language": "python",
   "name": "tfod1j"
  },
  "language_info": {
   "codemirror_mode": {
    "name": "ipython",
    "version": 3
   },
   "file_extension": ".py",
   "mimetype": "text/x-python",
   "name": "python",
   "nbconvert_exporter": "python",
   "pygments_lexer": "ipython3",
   "version": "3.11.3"
  }
 },
 "nbformat": 4,
 "nbformat_minor": 5
}
